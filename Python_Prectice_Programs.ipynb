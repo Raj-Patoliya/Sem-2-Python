{
  "nbformat": 4,
  "nbformat_minor": 0,
  "metadata": {
    "colab": {
      "name": "Python Prectice Programs.ipynb",
      "provenance": [],
      "collapsed_sections": []
    },
    "kernelspec": {
      "name": "python3",
      "display_name": "Python 3"
    },
    "language_info": {
      "name": "python"
    }
  },
  "cells": [
    {
      "cell_type": "code",
      "execution_count": null,
      "metadata": {
        "colab": {
          "base_uri": "https://localhost:8080/"
        },
        "id": "MSo1bzcTdLHy",
        "outputId": "00afd75e-b170-4d59-8a89-30228ce53d30"
      },
      "outputs": [
        {
          "output_type": "stream",
          "name": "stdout",
          "text": [
            "Enter the String to input : Hello World\n",
            "Hello World\n"
          ]
        }
      ],
      "source": [
        "# 1. To create a text file to store individual characters.\n",
        "recordlen = 50\n",
        "f=open(\"cityList.txt\",\"wb\")\n",
        "string = input(\"Enter the String to input : \")\n",
        "print(string)\n",
        "string = string.encode()\n",
        "f.write(string)\n",
        "f.close()"
      ]
    },
    {
      "cell_type": "code",
      "source": [
        "# 2. To read characters from a file.\n",
        "f = open(\"cityList.txt\",\"r\")\n",
        "d = f.read()\n",
        "print(d)"
      ],
      "metadata": {
        "colab": {
          "base_uri": "https://localhost:8080/"
        },
        "id": "V1bBN57Ieg_y",
        "outputId": "e3bcc47f-3eab-462d-a92b-c0414f69bc84"
      },
      "execution_count": null,
      "outputs": [
        {
          "output_type": "stream",
          "name": "stdout",
          "text": [
            "Hello World\n"
          ]
        }
      ]
    },
    {
      "cell_type": "code",
      "source": [
        "# 3. To store a group of strings into a text file.\n",
        "f = open(\"cityList.txt\",\"wb\")\n",
        "n = int(input(\"Enter the nos of string\"))\n",
        "for i in range(n) :\n",
        "  string = input(\"String : \")\n",
        "  string =  string + \"\\n\"\n",
        "  string = string.encode()\n",
        "  f.write(string)\n",
        "f.close()"
      ],
      "metadata": {
        "id": "YX_-QXR7e2fq",
        "colab": {
          "base_uri": "https://localhost:8080/"
        },
        "outputId": "2b88a529-1994-451e-d3ea-9d197b8beb97"
      },
      "execution_count": null,
      "outputs": [
        {
          "name": "stdout",
          "output_type": "stream",
          "text": [
            "Enter the nos of string2\n",
            "String : Surat\n",
            "String : Vapi\n"
          ]
        }
      ]
    },
    {
      "cell_type": "code",
      "source": [
        "#4. To read all the strings from the text file and display them.\n",
        "f = open(\"cityList.txt\",\"r\")\n",
        "d = f.read()\n",
        "print(d)"
      ],
      "metadata": {
        "colab": {
          "base_uri": "https://localhost:8080/"
        },
        "id": "w7FG0bwEf2na",
        "outputId": "de3cdb9b-339a-416f-e4f9-20e70f34e457"
      },
      "execution_count": null,
      "outputs": [
        {
          "output_type": "stream",
          "name": "stdout",
          "text": [
            "Surat\n",
            "Vapi\n",
            "\n"
          ]
        }
      ]
    },
    {
      "cell_type": "code",
      "source": [
        "f = open('cityList.txt','w')\n",
        "print('Enter text (@ at the end): ')\n",
        "while string != '@':\n",
        "  string = input()\n",
        "  if(string != '@'):\n",
        "    f.write(string+\"\\n\")\n",
        "f.close()"
      ],
      "metadata": {
        "colab": {
          "base_uri": "https://localhost:8080/"
        },
        "id": "ghOIGn-miasy",
        "outputId": "589e2173-6494-4c2c-9568-6abe1d9fa0c4"
      },
      "execution_count": null,
      "outputs": [
        {
          "name": "stdout",
          "output_type": "stream",
          "text": [
            "Enter text (@ at the end): \n",
            "Surat\n",
            "Vapi\n",
            "Valsad\n",
            "Daman\n",
            "Bardoli\n",
            "@\n"
          ]
        }
      ]
    },
    {
      "cell_type": "code",
      "source": [
        "# 5. To append data to existing file and then displaying the entire file.\n",
        "f = open('cityList.txt','a+')\n",
        "print('Enter text to append (@ at the end): ')\n",
        "while string != '@':\n",
        "  string = input(\"\")\n",
        "  if(string != '@'):\n",
        "    f.write(string+\"\\n\")\n",
        "f.seek(0,0)\n",
        "string = f.read()\n",
        "print(string)\n",
        "f.close()"
      ],
      "metadata": {
        "colab": {
          "base_uri": "https://localhost:8080/"
        },
        "id": "26acaWSag_lX",
        "outputId": "81d7bd47-ae3b-4f41-b10b-5aa8cd0450be"
      },
      "execution_count": null,
      "outputs": [
        {
          "output_type": "stream",
          "name": "stdout",
          "text": [
            "Enter text to append (@ at the end): \n",
            "Surat\n",
            "Vapi\n",
            "Valsad\n",
            "Daman\n",
            "Bardoli\n",
            "\n"
          ]
        }
      ]
    },
    {
      "cell_type": "code",
      "source": [
        "import pandas as pd\n",
        "df = pd.DataFrame({\n",
        "    \"Name\":['Raj','Naveeen','Jenish','Krushang'],\n",
        "    \"Age\":[23,22,19,18]\n",
        "})\n",
        "df"
      ],
      "metadata": {
        "id": "ZbnIHXYJjX5H",
        "colab": {
          "base_uri": "https://localhost:8080/",
          "height": 175
        },
        "outputId": "12a07014-302f-4873-97f4-0723ae8b5c1d"
      },
      "execution_count": null,
      "outputs": [
        {
          "output_type": "execute_result",
          "data": {
            "text/plain": [
              "       Name  Age\n",
              "0       Raj   23\n",
              "1   Naveeen   22\n",
              "2    Jenish   19\n",
              "3  Krushang   18"
            ],
            "text/html": [
              "\n",
              "  <div id=\"df-992f0c44-9084-416f-821e-e57b3cefa507\">\n",
              "    <div class=\"colab-df-container\">\n",
              "      <div>\n",
              "<style scoped>\n",
              "    .dataframe tbody tr th:only-of-type {\n",
              "        vertical-align: middle;\n",
              "    }\n",
              "\n",
              "    .dataframe tbody tr th {\n",
              "        vertical-align: top;\n",
              "    }\n",
              "\n",
              "    .dataframe thead th {\n",
              "        text-align: right;\n",
              "    }\n",
              "</style>\n",
              "<table border=\"1\" class=\"dataframe\">\n",
              "  <thead>\n",
              "    <tr style=\"text-align: right;\">\n",
              "      <th></th>\n",
              "      <th>Name</th>\n",
              "      <th>Age</th>\n",
              "    </tr>\n",
              "  </thead>\n",
              "  <tbody>\n",
              "    <tr>\n",
              "      <th>0</th>\n",
              "      <td>Raj</td>\n",
              "      <td>23</td>\n",
              "    </tr>\n",
              "    <tr>\n",
              "      <th>1</th>\n",
              "      <td>Naveeen</td>\n",
              "      <td>22</td>\n",
              "    </tr>\n",
              "    <tr>\n",
              "      <th>2</th>\n",
              "      <td>Jenish</td>\n",
              "      <td>19</td>\n",
              "    </tr>\n",
              "    <tr>\n",
              "      <th>3</th>\n",
              "      <td>Krushang</td>\n",
              "      <td>18</td>\n",
              "    </tr>\n",
              "  </tbody>\n",
              "</table>\n",
              "</div>\n",
              "      <button class=\"colab-df-convert\" onclick=\"convertToInteractive('df-992f0c44-9084-416f-821e-e57b3cefa507')\"\n",
              "              title=\"Convert this dataframe to an interactive table.\"\n",
              "              style=\"display:none;\">\n",
              "        \n",
              "  <svg xmlns=\"http://www.w3.org/2000/svg\" height=\"24px\"viewBox=\"0 0 24 24\"\n",
              "       width=\"24px\">\n",
              "    <path d=\"M0 0h24v24H0V0z\" fill=\"none\"/>\n",
              "    <path d=\"M18.56 5.44l.94 2.06.94-2.06 2.06-.94-2.06-.94-.94-2.06-.94 2.06-2.06.94zm-11 1L8.5 8.5l.94-2.06 2.06-.94-2.06-.94L8.5 2.5l-.94 2.06-2.06.94zm10 10l.94 2.06.94-2.06 2.06-.94-2.06-.94-.94-2.06-.94 2.06-2.06.94z\"/><path d=\"M17.41 7.96l-1.37-1.37c-.4-.4-.92-.59-1.43-.59-.52 0-1.04.2-1.43.59L10.3 9.45l-7.72 7.72c-.78.78-.78 2.05 0 2.83L4 21.41c.39.39.9.59 1.41.59.51 0 1.02-.2 1.41-.59l7.78-7.78 2.81-2.81c.8-.78.8-2.07 0-2.86zM5.41 20L4 18.59l7.72-7.72 1.47 1.35L5.41 20z\"/>\n",
              "  </svg>\n",
              "      </button>\n",
              "      \n",
              "  <style>\n",
              "    .colab-df-container {\n",
              "      display:flex;\n",
              "      flex-wrap:wrap;\n",
              "      gap: 12px;\n",
              "    }\n",
              "\n",
              "    .colab-df-convert {\n",
              "      background-color: #E8F0FE;\n",
              "      border: none;\n",
              "      border-radius: 50%;\n",
              "      cursor: pointer;\n",
              "      display: none;\n",
              "      fill: #1967D2;\n",
              "      height: 32px;\n",
              "      padding: 0 0 0 0;\n",
              "      width: 32px;\n",
              "    }\n",
              "\n",
              "    .colab-df-convert:hover {\n",
              "      background-color: #E2EBFA;\n",
              "      box-shadow: 0px 1px 2px rgba(60, 64, 67, 0.3), 0px 1px 3px 1px rgba(60, 64, 67, 0.15);\n",
              "      fill: #174EA6;\n",
              "    }\n",
              "\n",
              "    [theme=dark] .colab-df-convert {\n",
              "      background-color: #3B4455;\n",
              "      fill: #D2E3FC;\n",
              "    }\n",
              "\n",
              "    [theme=dark] .colab-df-convert:hover {\n",
              "      background-color: #434B5C;\n",
              "      box-shadow: 0px 1px 3px 1px rgba(0, 0, 0, 0.15);\n",
              "      filter: drop-shadow(0px 1px 2px rgba(0, 0, 0, 0.3));\n",
              "      fill: #FFFFFF;\n",
              "    }\n",
              "  </style>\n",
              "\n",
              "      <script>\n",
              "        const buttonEl =\n",
              "          document.querySelector('#df-992f0c44-9084-416f-821e-e57b3cefa507 button.colab-df-convert');\n",
              "        buttonEl.style.display =\n",
              "          google.colab.kernel.accessAllowed ? 'block' : 'none';\n",
              "\n",
              "        async function convertToInteractive(key) {\n",
              "          const element = document.querySelector('#df-992f0c44-9084-416f-821e-e57b3cefa507');\n",
              "          const dataTable =\n",
              "            await google.colab.kernel.invokeFunction('convertToInteractive',\n",
              "                                                     [key], {});\n",
              "          if (!dataTable) return;\n",
              "\n",
              "          const docLinkHtml = 'Like what you see? Visit the ' +\n",
              "            '<a target=\"_blank\" href=https://colab.research.google.com/notebooks/data_table.ipynb>data table notebook</a>'\n",
              "            + ' to learn more about interactive tables.';\n",
              "          element.innerHTML = '';\n",
              "          dataTable['output_type'] = 'display_data';\n",
              "          await google.colab.output.renderOutput(dataTable, element);\n",
              "          const docLink = document.createElement('div');\n",
              "          docLink.innerHTML = docLinkHtml;\n",
              "          element.appendChild(docLink);\n",
              "        }\n",
              "      </script>\n",
              "    </div>\n",
              "  </div>\n",
              "  "
            ]
          },
          "metadata": {},
          "execution_count": 16
        }
      ]
    },
    {
      "cell_type": "code",
      "source": [
        "# 7. To count number of lines, words and characters in a text file\n",
        "f = open(\"cityList.txt\",\"r\")\n",
        "string = f.read()\n",
        "print(string)\n",
        "words = len(string.split())\n",
        "character =  len(string)\n",
        "num_lines = 0\n",
        "with open(\"cityList.txt\", 'r') as f:\n",
        "    for line in f:\n",
        "        num_lines += 1\n",
        "print('No. of lines: ', num_lines)\n",
        "print('No. of words: ', words)\n",
        "print('No. of characters : ', character)\n",
        "f.close()"
      ],
      "metadata": {
        "colab": {
          "base_uri": "https://localhost:8080/"
        },
        "id": "9gDFhRkujwVw",
        "outputId": "a113eae3-4548-484f-b5c0-aa8c3776c302"
      },
      "execution_count": null,
      "outputs": [
        {
          "output_type": "stream",
          "name": "stdout",
          "text": [
            "Hey\n",
            "Hi\n",
            "Hello\n",
            "Hola\n",
            "\n",
            "No. of lines:  4\n",
            "No. of words:  4\n",
            "No. of characters :  18\n"
          ]
        }
      ]
    },
    {
      "cell_type": "code",
      "source": [
        "from IPython.core.display import Image\n",
        "# 8 . To copy an image file to another.\n",
        "f1 = open('Banana.jpg','rb')\n",
        "f2 = open('new.jpg','wb')\n",
        "bytes = f1.read()\n",
        "f2.write(bytes)\n",
        "f1.close()\n",
        "f2.close()"
      ],
      "metadata": {
        "id": "8hUezCnSkUnc",
        "colab": {
          "base_uri": "https://localhost:8080/",
          "height": 235
        },
        "outputId": "9569d082-db59-4f5c-a7ef-159bb8922958"
      },
      "execution_count": null,
      "outputs": [
        {
          "output_type": "error",
          "ename": "FileNotFoundError",
          "evalue": "ignored",
          "traceback": [
            "\u001b[0;31m---------------------------------------------------------------------------\u001b[0m",
            "\u001b[0;31mFileNotFoundError\u001b[0m                         Traceback (most recent call last)",
            "\u001b[0;32m<ipython-input-9-bb19708dad8e>\u001b[0m in \u001b[0;36m<module>\u001b[0;34m()\u001b[0m\n\u001b[1;32m      1\u001b[0m \u001b[0;32mfrom\u001b[0m \u001b[0mIPython\u001b[0m\u001b[0;34m.\u001b[0m\u001b[0mcore\u001b[0m\u001b[0;34m.\u001b[0m\u001b[0mdisplay\u001b[0m \u001b[0;32mimport\u001b[0m \u001b[0mImage\u001b[0m\u001b[0;34m\u001b[0m\u001b[0;34m\u001b[0m\u001b[0m\n\u001b[1;32m      2\u001b[0m \u001b[0;31m# 8 . To copy an image file to another.\u001b[0m\u001b[0;34m\u001b[0m\u001b[0;34m\u001b[0m\u001b[0;34m\u001b[0m\u001b[0m\n\u001b[0;32m----> 3\u001b[0;31m \u001b[0mf1\u001b[0m \u001b[0;34m=\u001b[0m \u001b[0mopen\u001b[0m\u001b[0;34m(\u001b[0m\u001b[0;34m'Banana.jpg'\u001b[0m\u001b[0;34m,\u001b[0m\u001b[0;34m'rb'\u001b[0m\u001b[0;34m)\u001b[0m\u001b[0;34m\u001b[0m\u001b[0;34m\u001b[0m\u001b[0m\n\u001b[0m\u001b[1;32m      4\u001b[0m \u001b[0mf2\u001b[0m \u001b[0;34m=\u001b[0m \u001b[0mopen\u001b[0m\u001b[0;34m(\u001b[0m\u001b[0;34m'new.jpg'\u001b[0m\u001b[0;34m,\u001b[0m\u001b[0;34m'wb'\u001b[0m\u001b[0;34m)\u001b[0m\u001b[0;34m\u001b[0m\u001b[0;34m\u001b[0m\u001b[0m\n\u001b[1;32m      5\u001b[0m \u001b[0mbytes\u001b[0m \u001b[0;34m=\u001b[0m \u001b[0mf1\u001b[0m\u001b[0;34m.\u001b[0m\u001b[0mread\u001b[0m\u001b[0;34m(\u001b[0m\u001b[0;34m)\u001b[0m\u001b[0;34m\u001b[0m\u001b[0;34m\u001b[0m\u001b[0m\n",
            "\u001b[0;31mFileNotFoundError\u001b[0m: [Errno 2] No such file or directory: 'Banana.jpg'"
          ]
        }
      ]
    },
    {
      "cell_type": "code",
      "source": [
        "# 9. To use ‘with’ to open file and write data.\n",
        "import os\n",
        "with open('cityList.txt','rb') as f:\n",
        "  string = f.read()\n",
        "  print(string)"
      ],
      "metadata": {
        "colab": {
          "base_uri": "https://localhost:8080/"
        },
        "id": "4iOACkITmg3P",
        "outputId": "361d0858-5001-44ab-b7a3-47a6920efcaf"
      },
      "execution_count": null,
      "outputs": [
        {
          "output_type": "stream",
          "name": "stdout",
          "text": [
            "b'Hey\\nHi\\nHello\\nHola\\n'\n"
          ]
        }
      ]
    },
    {
      "cell_type": "code",
      "source": [
        "# 10. Create Emp class.\n",
        "class Emp:\n",
        "\tdef __init__(self,id,name,salary):\n",
        "\t\tself.id = id\n",
        "\t\tself.name = name\n",
        "\t\tself.salary = salary\n",
        "\tdef display(self):\n",
        "\t\tprint(self.id , \"  \" , self.name , \"  \" , self.salary)"
      ],
      "metadata": {
        "id": "N1nOVXVVop-9"
      },
      "execution_count": null,
      "outputs": []
    },
    {
      "cell_type": "code",
      "source": [
        "# 11. Pickle Emp class objects. (dump)\n",
        "#Pickle an object\n",
        "\n",
        "import Emp, pickle\n",
        "f = open('emp.dat','wb')\n",
        "n = int(input('How many employees: '))\n",
        "for i in range(n):\n",
        "\tid = int(input('Enter id: '))\n",
        "\tname = input('Enter name: ')\n",
        "\tsalary = float(input('Enter salary: '))\n",
        "\te = Emp.Emp(id,name,salary)\n",
        "\tpickle.dump(e,f)\n",
        "f.close()"
      ],
      "metadata": {
        "colab": {
          "base_uri": "https://localhost:8080/"
        },
        "id": "CnjonYLTpDly",
        "outputId": "31031b8b-7221-4c08-fb0a-6a4e49444772"
      },
      "execution_count": null,
      "outputs": [
        {
          "name": "stdout",
          "output_type": "stream",
          "text": [
            "How many employees: 2\n",
            "Enter id: 101\n",
            "Enter name: Gosiya Khan\n",
            "Enter salary: 150\n",
            "Enter id: 102\n",
            "Enter name: Ritu Pandit\n",
            "Enter salary: 125\n"
          ]
        }
      ]
    },
    {
      "cell_type": "code",
      "source": [
        "# 12. Unpickle Emp class objects. (load)\n",
        "#UnPickle an object\n",
        "import Emp\n",
        "import pickle as p\n",
        "f = open('emp.dat','rb')\n",
        "print('Employees details are as: ')\n",
        "print(\" Id   Name   Salary \")\n",
        "while True:\n",
        "\ttry:\n",
        "\t\tobj = p.load(f)\n",
        "\t\tobj.display()\n",
        "\texcept EOFError:\n",
        "\t\tprint('End of file reached.....')\n",
        "\t\tbreak\n",
        "f.close()"
      ],
      "metadata": {
        "id": "ocO7ME6SpxLI",
        "colab": {
          "base_uri": "https://localhost:8080/"
        },
        "outputId": "2fa48ed4-ccd7-452d-d52e-8b6d95bee1e0"
      },
      "execution_count": null,
      "outputs": [
        {
          "output_type": "stream",
          "name": "stdout",
          "text": [
            "Employees details are as: \n",
            " Id   Name   Salary \n",
            "101    Gosiya Khan    150.0\n",
            "102    Ritu Pandit    125.0\n",
            "End of file reached.....\n"
          ]
        }
      ]
    },
    {
      "cell_type": "code",
      "source": [
        "# 13. Create binary file and store data\n",
        "f = open(\"mybin.bin\",\"wb\")\n",
        "string = \"Naina Tere Hai Kajara re hai Naino pe hum dil hare hai\"\n",
        "str = string.encode()\n",
        "f.write(str)"
      ],
      "metadata": {
        "colab": {
          "base_uri": "https://localhost:8080/"
        },
        "id": "7BHL2J14qGEP",
        "outputId": "5c32a960-d659-4b58-ea22-e8f4f8528871"
      },
      "execution_count": null,
      "outputs": [
        {
          "output_type": "execute_result",
          "data": {
            "text/plain": [
              "54"
            ]
          },
          "metadata": {},
          "execution_count": 14
        }
      ]
    },
    {
      "cell_type": "code",
      "source": [
        "# 14. Randomly accessing a record from a binary file.\n",
        "f = open(\"mybin.bin\",\"rb\")\n",
        "string = f.read()\n",
        "string = string.decode()\n",
        "print(string)"
      ],
      "metadata": {
        "colab": {
          "base_uri": "https://localhost:8080/"
        },
        "id": "lZxv8vkLrpLc",
        "outputId": "4b56b3c6-3eb1-4a0d-86aa-3390add2aeb3"
      },
      "execution_count": null,
      "outputs": [
        {
          "output_type": "stream",
          "name": "stdout",
          "text": [
            "Naina Tere Hai Kajara re hai Naino pe hum dil hare hai\n"
          ]
        }
      ]
    },
    {
      "cell_type": "code",
      "source": [
        "# 15. To search for city name in the file and display the record number that contains the city name.\n",
        "import os\n",
        "reclen = 20\n",
        "size = os.path.getsize('mybin.bin')\n",
        "print('Size of file = {} bytes'.format(size))\n",
        "n = int(size/reclen)\n",
        "print('No. of records = {}'.format(n))\n",
        "with open('mybin.bin','rb') as f:\n",
        "  name = input('Enter city name: ')\n",
        "  name = name.encode()\n",
        "  position = 0\n",
        "  found = False\n",
        "  for i in range(n):\n",
        "    f.seek(position)\n",
        "    str = f.read(20)\n",
        "    if name in str:\n",
        "      print('City found at record no: ', (i+1))\n",
        "      found= True\n",
        "    position+=reclen\n",
        "if not found:\n",
        "  print('City not found') "
      ],
      "metadata": {
        "colab": {
          "base_uri": "https://localhost:8080/"
        },
        "id": "O848vcVTsj3G",
        "outputId": "83945d43-2a6d-4622-c2fb-c54b210ece3f"
      },
      "execution_count": null,
      "outputs": [
        {
          "output_type": "stream",
          "name": "stdout",
          "text": [
            "Size of file = 54 bytes\n",
            "No. of records = 2\n",
            "Enter city name: Naina\n",
            "City found at record no:  1\n"
          ]
        }
      ]
    },
    {
      "cell_type": "code",
      "source": [
        "# 16. To update or modify a record in a binary file.\n",
        "import os\n",
        "reclen = 20\n",
        "size = os.path.getsize('mybin.bin')\n",
        "print('Size of file = {} bytes'.format(size))\n",
        "n = int(size/reclen)\n",
        "print('No. of records = {}'.format(n))\n",
        "with open('mybin.bin','r+b') as f:\n",
        "  name = input('Enter city name: ')\n",
        "  name = name.encode()\n",
        "  newname = input('Enter new name: ')\n",
        "  ln = len(newname)\n",
        "  newname = newname + (20-ln)*' '\n",
        "  newname = newname.encode()\n",
        "  position = 0\n",
        "  found =False\n",
        "  for i in range(n):\n",
        "    f.seek(position)\n",
        "    str = f.read(20)\n",
        "    if name in str:\n",
        "      print('Updated record no: ', (i+1))\n",
        "      found = True\n",
        "      f.seek(-20, 1)\n",
        "      f.write(newname)\n",
        "    position+=reclen\n",
        "if not found:\n",
        "  print('City not found')"
      ],
      "metadata": {
        "colab": {
          "base_uri": "https://localhost:8080/"
        },
        "id": "xwUvriD_tfG5",
        "outputId": "9123a3e0-ff3e-4853-a5ae-2c88865f64f4"
      },
      "execution_count": null,
      "outputs": [
        {
          "output_type": "stream",
          "name": "stdout",
          "text": [
            "Size of file = 54 bytes\n",
            "No. of records = 2\n",
            "Enter city name: Kajara re\n",
            "Enter new name: Katilana\n",
            "City not found\n"
          ]
        }
      ]
    },
    {
      "cell_type": "code",
      "source": [
        "# 16. To update or modify a record in a binary file.\n",
        "import os\n",
        "reclen = 20\n",
        "size = os.path.getsize('mybin.bin')\n",
        "print('Size of file = {} bytes'.format(size))\n",
        "n = int(size/reclen)\n",
        "print('No. of records = {}'.format(n))\n",
        "with open('mybin.bin','r+b') as f:\n",
        "  name = input('Enter city name: ')\n",
        "  name = name.encode()\n",
        "  newname = input('Enter new name: ')\n",
        "  ln = len(newname)\n",
        "  newname = newname + (20-ln)*' '\n",
        "  newname = newname.encode()\n",
        "  position = 0\n",
        "  found =False\n",
        "  for i in range(n):\n",
        "    f.seek(position)\n",
        "    str = f.read(20)\n",
        "    if name in str:\n",
        "      print('Updated record no: ', (i+1))\n",
        "      found = True\n",
        "      f.seek(-20, 1)\n",
        "      f.write(newname)\n",
        "    position+=reclen\n",
        "    if not found:\n",
        "      print('City not found')"
      ],
      "metadata": {
        "colab": {
          "base_uri": "https://localhost:8080/"
        },
        "id": "IxZ1A26KuK18",
        "outputId": "84650057-418a-4db0-fda8-c490af157499"
      },
      "execution_count": null,
      "outputs": [
        {
          "output_type": "stream",
          "name": "stdout",
          "text": [
            "Size of file = 54 bytes\n",
            "No. of records = 2\n",
            "Enter city name: Naina\n",
            "Enter new name: Nena\n",
            "Updated record no:  1\n"
          ]
        }
      ]
    },
    {
      "cell_type": "code",
      "source": [
        "# 17. To delete a specific record from the binary file.\n",
        "import os\n",
        "reclen = 100\n",
        "size = os.path.getsize('mybin.bin')\n",
        "print('Size of file = {} bytes'.format(size))\n",
        "n = int(size/reclen)\n",
        "print('No. of records = {}'.format(n))\n",
        "f1 = open('mybin.bin','rb')\n",
        "f2 = open('mybinNew.bin','wb')\n",
        "city = input('Enter city name to delete: ')\n",
        "ln = len(city)\n",
        "city = city + (reclen-ln)*' '\n",
        "city = city.encode()\n",
        "for i in range(n):\n",
        "  str = f1.read(reclen)\n",
        "  if(str != city):\n",
        "    f2.write(str)\n",
        "print('Record deleted.....')\n",
        "f1.close()\n",
        "f2.close()\n",
        "os.remove(\"mybin.bin\")\n",
        "os.rename(\"mybinNew.bin\",\"mybin.bin\")"
      ],
      "metadata": {
        "colab": {
          "base_uri": "https://localhost:8080/"
        },
        "id": "eFFE6A-SxmEZ",
        "outputId": "40116b63-1ed2-4e98-c27d-fa570f6803de"
      },
      "execution_count": null,
      "outputs": [
        {
          "output_type": "stream",
          "name": "stdout",
          "text": [
            "Size of file = 11 bytes\n",
            "No. of records = 0\n",
            "Enter city name to delete: Valsad\n",
            "Record deleted.....\n"
          ]
        }
      ]
    },
    {
      "cell_type": "code",
      "source": [
        "# 18. To create phone book with names and phone numbers.\n",
        "with open(\"Phonebook.dat\", \"wb\") as f:\n",
        "  n = int(input('How many entries? '))\n",
        "  for i in range(n):\n",
        "    name = input('Enter name: ')\n",
        "    phone = input('Enter phone no: ')\n",
        "    name = name.encode()\n",
        "    phone = phone.encode()\n",
        "    f.write(name+phone)"
      ],
      "metadata": {
        "colab": {
          "base_uri": "https://localhost:8080/"
        },
        "id": "3gupgcJPyQFh",
        "outputId": "07cd4dd4-f989-477e-8f19-c1207e48c09f"
      },
      "execution_count": null,
      "outputs": [
        {
          "name": "stdout",
          "output_type": "stream",
          "text": [
            "How many entries? 2\n",
            "Enter name: Gosiya Khan\n",
            "Enter phone no: 9632587410\n",
            "Enter name: Ritu Pandit\n",
            "Enter phone no: 9632587412\n"
          ]
        }
      ]
    },
    {
      "cell_type": "code",
      "source": [
        "# 19. To use mmap and performing various operations on a binary file\n",
        "import mmap, sys\n",
        "print('1. To display all the entries')\n",
        "print('2. To display Phone numbers')\n",
        "print('3. Modify an entry')\n",
        "print('4. Exit')\n",
        "ch = input('Your Choice: ')\n",
        "if ch=='4':\n",
        "  sys.exit()\n",
        "with open(\"Phonebook.dat\",\"r+b\") as f:\n",
        "  mm = mmap.mmap(f.fileno(), 0)\n",
        "  if(ch=='1'):\n",
        "    print(mm.read().decode())\n",
        "  if(ch=='2'):\n",
        "    name = input('Enter name:')\n",
        "    n = mm.find(name.encode())\n",
        "    n1 = n+len(name)\n",
        "    ph = mm[n1: n1+10]\n",
        "    print('Phone no: ', ph.decode())\n",
        "    if(ch=='3'):\n",
        "      name = input('Enter name:')\n",
        "      n = mm.find(name.encode())\n",
        "      n1 = n+len(name)\n",
        "      ph1 = input('Enter new phone number: ')\n",
        "      mm[n1: n1+10] = ph1.encode()\n",
        "mm.close()"
      ],
      "metadata": {
        "colab": {
          "base_uri": "https://localhost:8080/"
        },
        "id": "CAd7YIDXy-IJ",
        "outputId": "e064f579-da42-404f-a2f8-572aa172f1ca"
      },
      "execution_count": null,
      "outputs": [
        {
          "output_type": "stream",
          "name": "stdout",
          "text": [
            "1. To display all the entries\n",
            "2. To display Phone numbers\n",
            "3. Modify an entry\n",
            "4. Exit\n",
            "Your Choice: 1\n",
            "Gosiya Khan9632587410Ritu Pandit9632587412\n"
          ]
        }
      ]
    },
    {
      "cell_type": "code",
      "source": [
        "# 20. To compress the content of the file.\n",
        "from zipfile import *\n",
        "with ZipFile('spam.zip', 'w') as myzip:\n",
        "  myzip.write('Emp.py')\n",
        "  myzip.write('emp.dat')\n",
        "print('test.zip file created....')"
      ],
      "metadata": {
        "id": "eEPdcFChzyWi",
        "colab": {
          "base_uri": "https://localhost:8080/"
        },
        "outputId": "0303bbe7-14fd-453f-fb9a-4321db92d2a7"
      },
      "execution_count": null,
      "outputs": [
        {
          "output_type": "stream",
          "name": "stdout",
          "text": [
            "test.zip file created....\n"
          ]
        }
      ]
    },
    {
      "cell_type": "code",
      "source": [
        "# 21. To unzip the contents of the file.\n",
        "z = ZipFile('spam.zip', 'r')\n",
        "z.extractall()"
      ],
      "metadata": {
        "id": "xkrpC7bF0iNa"
      },
      "execution_count": null,
      "outputs": []
    },
    {
      "cell_type": "code",
      "source": [
        "# 22. To know the currently working directory\n",
        "import os\n",
        "# get current working directory with getcwd()\n",
        "current = os.getcwd()\n",
        "print(current)"
      ],
      "metadata": {
        "colab": {
          "base_uri": "https://localhost:8080/"
        },
        "id": "CxjxUVfH0r-s",
        "outputId": "54e72522-3965-4ce1-a6e3-b483b1c2dabc"
      },
      "execution_count": null,
      "outputs": [
        {
          "output_type": "stream",
          "name": "stdout",
          "text": [
            "/content\n"
          ]
        }
      ]
    },
    {
      "cell_type": "code",
      "source": [
        "# 23. To create sub directory and sub-sub directory in the current working directory.\n",
        "import os\n",
        "os.mkdir('PPPDS')"
      ],
      "metadata": {
        "id": "7GToppko0xPB"
      },
      "execution_count": null,
      "outputs": []
    },
    {
      "cell_type": "code",
      "source": [
        "# 24. To use the makedirs() to create sub directory and sub-sub directory.\n",
        "import os\n",
        "os.mkdir('PPPDS/subPPss')"
      ],
      "metadata": {
        "id": "EOEKOXXi0xMI"
      },
      "execution_count": null,
      "outputs": []
    },
    {
      "cell_type": "code",
      "source": [
        "# 25. To change to another directory.\n",
        "import os\n",
        "changeWD = os.chdir('PPPDS/subPPss')\n",
        "current = os.getcwd()\n",
        "print(current)"
      ],
      "metadata": {
        "colab": {
          "base_uri": "https://localhost:8080/"
        },
        "id": "l_qbrcR01Pn4",
        "outputId": "e45b381d-a2a9-457b-fb2a-050fc6ba958d"
      },
      "execution_count": null,
      "outputs": [
        {
          "output_type": "stream",
          "name": "stdout",
          "text": [
            "/content/PPPDS/subPPss\n"
          ]
        }
      ]
    },
    {
      "cell_type": "code",
      "source": [
        "# 26. To remove a directory\n",
        "current = os.getcwd()\n",
        "print(current)"
      ],
      "metadata": {
        "colab": {
          "base_uri": "https://localhost:8080/"
        },
        "id": "cuyzNREi1fy2",
        "outputId": "47ed08ed-85bb-4847-88dd-ed97ab91d749"
      },
      "execution_count": null,
      "outputs": [
        {
          "output_type": "stream",
          "name": "stdout",
          "text": [
            "/content/PPPDS/subPPss\n"
          ]
        }
      ]
    },
    {
      "cell_type": "code",
      "source": [
        "# 27. To rename a directory.\n",
        "import os\n",
        "os.rename(\"/content/PPDS/subPPss\",\"subPPDS\")"
      ],
      "metadata": {
        "id": "HInbELgp23-l",
        "colab": {
          "base_uri": "https://localhost:8080/",
          "height": 217
        },
        "outputId": "90f6395e-5885-4295-ef9f-e0a7fd4636ac"
      },
      "execution_count": null,
      "outputs": [
        {
          "output_type": "error",
          "ename": "FileNotFoundError",
          "evalue": "ignored",
          "traceback": [
            "\u001b[0;31m---------------------------------------------------------------------------\u001b[0m",
            "\u001b[0;31mFileNotFoundError\u001b[0m                         Traceback (most recent call last)",
            "\u001b[0;32m<ipython-input-32-4d2cf5bf8036>\u001b[0m in \u001b[0;36m<module>\u001b[0;34m()\u001b[0m\n\u001b[1;32m      1\u001b[0m \u001b[0;31m# 27. To rename a directory.\u001b[0m\u001b[0;34m\u001b[0m\u001b[0;34m\u001b[0m\u001b[0;34m\u001b[0m\u001b[0m\n\u001b[1;32m      2\u001b[0m \u001b[0;32mimport\u001b[0m \u001b[0mos\u001b[0m\u001b[0;34m\u001b[0m\u001b[0;34m\u001b[0m\u001b[0m\n\u001b[0;32m----> 3\u001b[0;31m \u001b[0mos\u001b[0m\u001b[0;34m.\u001b[0m\u001b[0mrename\u001b[0m\u001b[0;34m(\u001b[0m\u001b[0;34m\"/content/PPDS/subPPss\"\u001b[0m\u001b[0;34m,\u001b[0m\u001b[0;34m\"subPPDS\"\u001b[0m\u001b[0;34m)\u001b[0m\u001b[0;34m\u001b[0m\u001b[0;34m\u001b[0m\u001b[0m\n\u001b[0m",
            "\u001b[0;31mFileNotFoundError\u001b[0m: [Errno 2] No such file or directory: '/content/PPDS/subPPss' -> 'subPPDS'"
          ]
        }
      ]
    },
    {
      "cell_type": "code",
      "source": [
        "# 28. To display all contents of the current directory.\n",
        "import os\n",
        "listdir = os.listdir(\"/content\")\n",
        "print(listdir)"
      ],
      "metadata": {
        "id": "eH3WUa3I2y08",
        "colab": {
          "base_uri": "https://localhost:8080/"
        },
        "outputId": "dd7712ca-ae2b-485e-d199-d0388dde0d49"
      },
      "execution_count": null,
      "outputs": [
        {
          "output_type": "stream",
          "name": "stdout",
          "text": [
            "['.config', 'PPPDS', 'cityList.txt', 'Phonebook.dat', 'Emp.py', 'mybin.bin', 'emp.dat', '.ipynb_checkpoints', 'spam.zip', '__pycache__', 'sample_data']\n"
          ]
        }
      ]
    },
    {
      "cell_type": "code",
      "source": [
        "# 29. To display python program files available in current directory.\n"
      ],
      "metadata": {
        "id": "FC1r2PX_21o0"
      },
      "execution_count": null,
      "outputs": []
    },
    {
      "cell_type": "markdown",
      "source": [
        "#**Data Science**"
      ],
      "metadata": {
        "id": "YS2X7ubE3DH0"
      }
    },
    {
      "cell_type": "code",
      "source": [
        "# 30. To display employee id numbers on X-axis and their salaries on Y-axis in the form of a bar graph.\n",
        "import pandas as pd\n",
        "import numpy as np\n",
        "import matplotlib.pyplot as plt\n",
        "Emp = pd.read_csv(\"/content/drive/MyDrive/Semester - 2 Notes /PPDS/Data Sets/EmployeeSales.csv\")\n",
        "x = Emp['Id']\n",
        "y = Emp['Salary']\n",
        "plt.xlabel('Employee ids')\n",
        "plt.ylabel('Employee Salary')\n",
        "plt.title('Comparision of Employee Salaries')\n",
        "plt.bar(x, y, label='Employee data', color='Orange')\n",
        "plt.show()\n",
        "\n",
        "\n",
        "\n",
        "\n",
        "\n",
        "\n",
        "\n",
        "\n",
        "\n",
        "\n",
        "\n",
        "\n",
        "\n",
        "\n",
        "\n"
      ],
      "metadata": {
        "colab": {
          "base_uri": "https://localhost:8080/",
          "height": 295
        },
        "id": "Qd-porba3H50",
        "outputId": "04838bfc-8f4f-4ffa-ca0a-3c674cea05d2"
      },
      "execution_count": null,
      "outputs": [
        {
          "output_type": "display_data",
          "data": {
            "text/plain": [
              "<Figure size 432x288 with 1 Axes>"
            ],
            "image/png": "[encoded data removed]"
          },
          "metadata": {
            "needs_background": "light"
          }
        }
      ]
    },
    {
      "cell_type": "code",
      "source": [
        "# 31. To display employee id numbers on X-axis and their salaries on Y-axis in the form of a bar graph for two departments of a company.\n",
        "EmpP = pd.read_csv(\"/content/drive/MyDrive/Semester - 2 Notes /PPDS/Data Sets/EmployeeProduction.csv\")\n",
        "x1 = EmpP['Id']\n",
        "y1 = EmpP['Salary']\n",
        "plt.bar(x, y, label='Sales Department', color='blue')\n",
        "plt.bar(x1, y1, label='Production Department', color='pink')"
      ],
      "metadata": {
        "colab": {
          "base_uri": "https://localhost:8080/",
          "height": 293
        },
        "id": "AUMuNdZW3PVO",
        "outputId": "060c4ceb-9312-47ca-d81a-e7a07b232ade"
      },
      "execution_count": null,
      "outputs": [
        {
          "output_type": "execute_result",
          "data": {
            "text/plain": [
              "<BarContainer object of 11 artists>"
            ]
          },
          "metadata": {},
          "execution_count": 37
        },
        {
          "output_type": "display_data",
          "data": {
            "text/plain": [
              "<Figure size 432x288 with 1 Axes>"
            ],
            "image/png": "[encoded data removed]"
          },
          "metadata": {
            "needs_background": "light"
          }
        }
      ]
    },
    {
      "cell_type": "code",
      "source": [
        "# 32. To display a histogram showing the number of employees in a specific age group.\n",
        "age = EmpP['Age']\n",
        "bins = [20,25,30,35,40,45]\n",
        "plt.hist(age, bins, histtype='stepfilled', rwidth=0.1, color='gold')\n",
        "plt.xlabel('Employee Ages')\n",
        "plt.ylabel('No. of Employees')\n",
        "plt.title('Ages Catagories')\n",
        "\n",
        "\n",
        "\n",
        "\n",
        "\n",
        "\n",
        "\n",
        "\n"
      ],
      "metadata": {
        "colab": {
          "base_uri": "https://localhost:8080/",
          "height": 312
        },
        "id": "Oy8UFb923SQ1",
        "outputId": "3c86aa0e-6f93-4d9e-9584-dbe03d634580"
      },
      "execution_count": null,
      "outputs": [
        {
          "output_type": "execute_result",
          "data": {
            "text/plain": [
              "Text(0.5, 1.0, 'Ages Catagories')"
            ]
          },
          "metadata": {},
          "execution_count": 38
        },
        {
          "output_type": "display_data",
          "data": {
            "text/plain": [
              "<Figure size 432x288 with 1 Axes>"
            ],
            "image/png": "[encoded data removed]"
          },
          "metadata": {
            "needs_background": "light"
          }
        }
      ]
    },
    {
      "cell_type": "code",
      "source": [
        "# 33. To display a pie chart showing the percentage of employees in each department of a company.\n",
        "import matplotlib.pyplot as plt\n",
        "slices = [40,30,20,10]\n",
        "depts = ['Sales','Production','HR','Finance']\n",
        "cols = ['magenta','yellow','brown','blue']\n",
        "plt.pie(slices,labels=depts,colors=cols, startangle=90, explode=(0,0,0,0.2), shadow=False, autopct='%.1f%%')\n",
        "plt.title('Department Strength')"
      ],
      "metadata": {
        "colab": {
          "base_uri": "https://localhost:8080/"
        },
        "id": "Nz2WrpAt3YcH",
        "outputId": "47f3fe13-ba39-4350-bc07-cc4fa830b134"
      },
      "execution_count": null,
      "outputs": [
        {
          "output_type": "execute_result",
          "data": {
            "text/plain": [
              "Text(0.5, 1.0, 'Department Strength')"
            ]
          },
          "metadata": {},
          "execution_count": 39
        },
        {
          "output_type": "display_data",
          "data": {
            "text/plain": [
              "<Figure size 432x288 with 1 Axes>"
            ],
            "image/png": "[encoded data removed]"
          },
          "metadata": {}
        }
      ]
    },
    {
      "cell_type": "code",
      "source": [
        "# 34. To create a line graph to show the profits of a company in various years.\n",
        "years = ['2018', '2019', '2020', '2021', '2022']\n",
        "profit = [10,11,5,4,15]\n",
        "plt.title('Progress')\n",
        "plt.xlabel('Year')\n",
        "plt.ylabel('Profit in million Rs.')\n",
        "plt.plot(years,profit,'blue')"
      ],
      "metadata": {
        "colab": {
          "base_uri": "https://localhost:8080/",
          "height": 312
        },
        "id": "-eXJBvLY3azE",
        "outputId": "b4276b5c-294f-40d4-a62d-1a9015115609"
      },
      "execution_count": null,
      "outputs": [
        {
          "output_type": "execute_result",
          "data": {
            "text/plain": [
              "[<matplotlib.lines.Line2D at 0x7f1161fe09d0>]"
            ]
          },
          "metadata": {},
          "execution_count": 40
        },
        {
          "output_type": "display_data",
          "data": {
            "text/plain": [
              "<Figure size 432x288 with 1 Axes>"
            ],
            "image/png": "[encoded data removed]"
          },
          "metadata": {
            "needs_background": "light"
          }
        }
      ]
    }
  ]
}