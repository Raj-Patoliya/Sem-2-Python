{
  "nbformat": 4,
  "nbformat_minor": 0,
  "metadata": {
    "colab": {
      "name": "Assignment.ipynb",
      "provenance": [],
      "collapsed_sections": [],
      "include_colab_link": true
    },
    "kernelspec": {
      "name": "python3",
      "display_name": "Python 3"
    },
    "language_info": {
      "name": "python"
    }
  },
  "cells": [
    {
      "cell_type": "markdown",
      "metadata": {
        "id": "view-in-github",
        "colab_type": "text"
      },
      "source": [
        "<a href=\"https://colab.research.google.com/github/Raj-Patoliya/Sem-2-Python/blob/main/Assignment.ipynb\" target=\"_parent\"><img src=\"https://colab.research.google.com/assets/colab-badge.svg\" alt=\"Open In Colab\"/></a>"
      ]
    },
    {
      "cell_type": "markdown",
      "source": [
        "### **1. Write a Python Program to Convert Celsius to Fahrenheit and vice –a-versa.**"
      ],
      "metadata": {
        "id": "qrLEI6yrI4tp"
      }
    },
    {
      "cell_type": "code",
      "execution_count": null,
      "metadata": {
        "colab": {
          "base_uri": "https://localhost:8080/"
        },
        "id": "oVh8JPwyI4Id",
        "outputId": "317084bc-6d41-4285-9ee3-79eff902b6f1"
      },
      "outputs": [
        {
          "output_type": "stream",
          "name": "stdout",
          "text": [
            "\n",
            "\tInput Temprature :  100\n",
            "\n",
            "\tfahrenheit To Celsius \n",
            "\n",
            "\tFahrenheit 100.0\n",
            "\n",
            "\tcelsius 37.77777777777778\n",
            "\n",
            "\tCelsius To fahrenheit \n",
            " \n",
            "\tcelsius 100.0\n",
            " \n",
            "\tFahrenheit 212.0\n"
          ]
        }
      ],
      "source": [
        "def fah(fahrenheit):\n",
        "\tcelsius = ( fahrenheit - 32) * 5.0/9.0\n",
        "\tprint(\"\\n\\tFahrenheit \"+ str(fahrenheit))\n",
        "\tprint(\"\\n\\tcelsius \"+ str(celsius))\n",
        "\n",
        "def cel(celsius):\n",
        "\tfahrenheit = 9.0/5.0 * celsius + 32\n",
        "\tprint(\" \\n\\tcelsius \"+ str(celsius))\n",
        "\tprint(\" \\n\\tFahrenheit \"+ str(fahrenheit))\n",
        " \n",
        "raj = input(\"\\n\\tInput Temprature :  \")\n",
        "print(\"\\n\\tfahrenheit To Celsius \")\n",
        "fah(float(raj))\n",
        "print(\"\\n\\tCelsius To fahrenheit \")\n",
        "cel(float(raj))\n",
        "##################################  OUTPUT  ###############################################"
      ]
    },
    {
      "cell_type": "markdown",
      "source": [
        "---\n",
        "### **2. Write a Python Program to Convert Decimal to Binary, Octal and Hexadecimal**"
      ],
      "metadata": {
        "id": "ri0PHfYDJemy"
      }
    },
    {
      "cell_type": "code",
      "source": [
        "dec = int(input(\"\\n\\t Enter The Decimal Value : \"))\n",
        "print(\"\\n\\tThe decimal value is \"+ str(dec))\n",
        "print(\"\\n\\t\"+str(dec)+\" in binary \" +bin(dec))\n",
        "print(\"\\n\\t\"+str(dec)+\" in binary \" +oct(dec))\n",
        "print(\"\\n\\t\"+str(dec)+\" in hexadecimal \" +hex(dec))\n",
        "##################################  OUTPUT  ###############################################"
      ],
      "metadata": {
        "colab": {
          "base_uri": "https://localhost:8080/"
        },
        "id": "bgOu4pPEJnBB",
        "outputId": "e3ee4cd4-3449-4d81-a7e3-66899a8f40e0"
      },
      "execution_count": null,
      "outputs": [
        {
          "output_type": "stream",
          "name": "stdout",
          "text": [
            "\n",
            "\t Enter The Decimal Value : 15\n",
            "\n",
            "\tThe decimal value is 15\n",
            "\n",
            "\t15 in binary 0b1111\n",
            "\n",
            "\t15 in binary 0o17\n",
            "\n",
            "\t15 in hexadecimal 0xf\n"
          ]
        }
      ]
    },
    {
      "cell_type": "markdown",
      "source": [
        "\n",
        "---\n",
        "\n",
        "### **3. Write a program to make a simple calculator (using functions).**"
      ],
      "metadata": {
        "id": "IH4dvTYtKRuh"
      }
    },
    {
      "cell_type": "code",
      "source": [
        "def add(a,b):\n",
        "\tprint(a+b)\n",
        "def sub(a,b):\n",
        "\treturn a-b\n",
        "def mul(a,b):\n",
        "\treturn a*b\n",
        "def div(a,b):\n",
        "\treturn a/b\n",
        "print(\"\\n\\t1 For Addition\")\n",
        "print(\"\\n\\t2 For Substratcion \")\n",
        "print(\"\\n\\t3 For Multiplication\")\n",
        "print(\"\\n\\t4 For Division\")\n",
        "print(\"\\n\\t0 For Exit\")\n",
        "ch = input(\"\\n\\tSelect your Choice : \")\t\n",
        "a = input(\"\\n\\t A = \")\n",
        "b = input(\"\\n\\t B = \")\n",
        "if ch == 1:\n",
        "\tadd(a,b)\n",
        "elif ch == 2:\n",
        "\tsub(a,b)\n",
        "elif ch == 3:\n",
        "\tmul(a,b)\n",
        "elif ch == 4:\n",
        "\tdiv(a,b)\n",
        " ##################################  OUTPUT  ###############################################"
      ],
      "metadata": {
        "colab": {
          "base_uri": "https://localhost:8080/"
        },
        "id": "Dr2N3CDEJ39g",
        "outputId": "7ff1975c-8696-44a0-90fa-1085cc100b95"
      },
      "execution_count": null,
      "outputs": [
        {
          "name": "stdout",
          "output_type": "stream",
          "text": [
            "\n",
            "\t1 For Addition\n",
            "\n",
            "\t2 For Substratcion \n",
            "\n",
            "\t3 For Multiplication\n",
            "\n",
            "\t4 For Division\n",
            "\n",
            "\t0 For Exit\n",
            "\n",
            "\tSelect your Choice : 2\n",
            "\n",
            "\t A = 30\n",
            "\n",
            "\t B = 20\n"
          ]
        }
      ]
    },
    {
      "cell_type": "markdown",
      "source": [
        "\n",
        "---\n",
        "\n",
        "### **4. Write a program in python to find out maximum and minimum number out of three user entered number.**"
      ],
      "metadata": {
        "id": "0ykz7d2sJvoh"
      }
    },
    {
      "cell_type": "code",
      "source": [
        "a = int(input(\"\\n\\tEnter First Number : \"))\n",
        "b = int(input(\"\\n\\tEnter Second Number : \"))\n",
        "c = int(input(\"\\n\\tEnter Third Number : \"))\n",
        "if a > b and a > c :\n",
        "\tprint(a,\" is Biggest Number\")\n",
        "elif b > a and b > c :\n",
        "\tprint(b,\" is Biggest Number\")\n",
        "elif c > b and c > a :\n",
        "\tprint(c,\" is Biggest Number\")\n",
        "if a < b and a < c :\n",
        "\tprint(a,\" is smallest Number \")\n",
        "elif b < a and b < c :\n",
        "\tprint(b,\" is smallest Number\")\n",
        "elif c < b and c < a :\n",
        "\tprint(c,\" is smallest Number\")\n",
        " \n",
        "##################################  OUTPUT  ###############################################"
      ],
      "metadata": {
        "colab": {
          "base_uri": "https://localhost:8080/"
        },
        "id": "db7o8KNoRX06",
        "outputId": "db6c70a9-b39e-4cae-b77a-d5617bcfe5f6"
      },
      "execution_count": null,
      "outputs": [
        {
          "output_type": "stream",
          "name": "stdout",
          "text": [
            "\n",
            "\tEnter First Number : 150\n",
            "\n",
            "\tEnter Second Number : 160\n",
            "\n",
            "\tEnter Third Number : 170\n",
            "170  is Biggest Number\n",
            "150  is smallest Number \n"
          ]
        }
      ]
    },
    {
      "cell_type": "markdown",
      "source": [
        "\n",
        "\n",
        "---\n",
        "### **5. Write a program which will allow user to enter 10 numbers and display largest odd number from them. It will display appropriate message in case if no odd number is found.**\n"
      ],
      "metadata": {
        "id": "twAgUrTQSGXx"
      }
    },
    {
      "cell_type": "code",
      "source": [
        "i=0\n",
        "inplist = [0]*5\n",
        "while(i != 51):\n",
        "\tinplist[i] = input(\"\\n\\tEnter The A[\"+str(i)+\"]\")\n",
        "\ti=i+1\n",
        "temp = 0\n",
        "count = 0\n",
        "i = 0\n",
        "while(i != 5):\n",
        "\tif int(inplist[i]) % 2 == 1 :\n",
        "\t\tcount = count + 1\n",
        "\t\tif int(temp) < int(inplist[i]) :\n",
        "\t\t\ttemp = inplist[i]\n",
        "\ti=i+1\n",
        "if count == 0 :\n",
        "\tprint(\"\\n\\t There is no odd Number\")\n",
        "else :\n",
        "\tprint(\"Largest odd number is \",str(temp))\n",
        "##################################  OUTPUT  ###############################################"
      ],
      "metadata": {
        "colab": {
          "base_uri": "https://localhost:8080/"
        },
        "id": "OL82oQ8wSQbq",
        "outputId": "046220f1-1659-4a02-a0a0-1e799cf0522d"
      },
      "execution_count": null,
      "outputs": [
        {
          "output_type": "stream",
          "name": "stdout",
          "text": [
            "\n",
            "\tEnter The A[0]5\n",
            "\n",
            "\tEnter The A[1]10\n",
            "\n",
            "\tEnter The A[2]51\n",
            "\n",
            "\tEnter The A[3]32\n",
            "\n",
            "\tEnter The A[4]33\n",
            "Largest odd number is  51\n"
          ]
        }
      ]
    },
    {
      "cell_type": "markdown",
      "source": [
        "\n",
        "\n",
        "---\n",
        "### **6. Write a Python program to check if the number provided by the user is an Armstrong number**\n"
      ],
      "metadata": {
        "id": "C2qN5jG5UCum"
      }
    },
    {
      "cell_type": "code",
      "source": [
        "num = int(input(\"\\n\\tEnter the number : \"))\n",
        "temp = num\n",
        "arm = 0\n",
        "while(int(temp) > 0) :\n",
        "\treminder = int(temp) % 10\n",
        "\ttemp = temp / 10\n",
        "\tarm = arm + (reminder *reminder * reminder )\n",
        "if num == arm :\n",
        "\tprint(\"\\n\\t\"+str(num)+\" Number is Armstrong number\")\n",
        "else :\n",
        "\tprint(\"\\n\\t\"+str(num)+\" Number is not Armstrong number\")\n",
        " ##################################  OUTPUT  ###############################################"
      ],
      "metadata": {
        "colab": {
          "base_uri": "https://localhost:8080/"
        },
        "id": "M-4a_OcFUPaW",
        "outputId": "9c7417d9-a69f-4781-eb20-422401f8eecd"
      },
      "execution_count": null,
      "outputs": [
        {
          "output_type": "stream",
          "name": "stdout",
          "text": [
            "\n",
            "\tEnter the number : 151\n",
            "\n",
            "\t151 Number is not Armstrong number\n"
          ]
        }
      ]
    },
    {
      "cell_type": "markdown",
      "source": [
        "\n",
        "\n",
        "---\n",
        "### **8. Write a Python program to perform following operation on given string input:**\n",
        "**a) Count Number of Vowel in given string**\n",
        "\n",
        "**b) Count Length of string (donot use len() )**\n",
        "\n",
        "**c) Reverse string**\n",
        "\n",
        "**d) Find and replace operation**\n",
        "\n",
        "**e) check whether string entered is a palindrome or not**\n"
      ],
      "metadata": {
        "id": "KEqUKyxHaDzl"
      }
    },
    {
      "cell_type": "code",
      "source": [
        "string = input(\"\\n\\tEnter String  : \")\n",
        "i = 0\n",
        "count = 0 \n",
        "for s in string :\n",
        "    i = i + 1\n",
        "    if s == 'a' or s == 'e' or s == 'i' or s == 'o' or s == 'u' :  \n",
        "        count = count + 1 \n",
        "print(\"\\n\\tThere are \"+str(count)+\" vovels in given string\")\n",
        "print(\"\\n\\tLength of given string is \"+str(i))\n",
        "print(\"\\n\\tReverse of given string is \"+string[::-1])\n",
        "if string == string[::-1] :\n",
        "    print(\"\\n\\tGiven String is Palindrom string\")\n",
        "else :\n",
        "        print(\"\\n\\tGiven String is not Palindrom string\")\n",
        "old = input(\"\\n\\tEnter Word to be replaced  : \")\n",
        "new = input(\"\\n\\tEnter new word  : \")\n",
        "x = string.replace(old,new)\n",
        "print(\"\\n\\tUpdated string : \"+x)\n",
        "##################################  OUTPUT  ###############################################"
      ],
      "metadata": {
        "colab": {
          "base_uri": "https://localhost:8080/"
        },
        "id": "Kv_lFqlAaDZ0",
        "outputId": "34e8fae1-33c3-4672-f4f9-1b4abf8159dd"
      },
      "execution_count": null,
      "outputs": [
        {
          "output_type": "stream",
          "name": "stdout",
          "text": [
            "\n",
            "\tEnter String  : Hello World\n",
            "\n",
            "\tThere are 3 vovels in given string\n",
            "\n",
            "\tLength of given string is 11\n",
            "\n",
            "\tReverse of given string is dlroW olleH\n",
            "\n",
            "\tGiven String is not Palindrom string\n",
            "\n",
            "\tEnter Word to be replaced  : World\n",
            "\n",
            "\tEnter new word  : Raj\n",
            "\n",
            "\tUpdated string : Hello Raj\n"
          ]
        }
      ]
    },
    {
      "cell_type": "markdown",
      "source": [
        "\n",
        "\n",
        "---\n",
        "### **9. Write a program in python to implement Fibonacci series up to user entered number.(Use recursive Function)**\n"
      ],
      "metadata": {
        "id": "Lc4S7kbgbCA-"
      }
    },
    {
      "cell_type": "code",
      "source": [
        "def fibo(n,n1,n2):\n",
        "    if n == 0 :\n",
        "        return\n",
        "    n3 = n1 + n2\n",
        "    n1 = n2\n",
        "    n2 = n3\n",
        "    n = n - 1\n",
        "    print(\" \"+str(n3))\n",
        "    fibo(n,n1,n2)\n",
        "\n",
        "n = int(input(\"\\n\\tEnter Number : \"))\n",
        "print(\" 0\")\n",
        "print(\" 1\")\n",
        "fibo(n,0,1)\n",
        "##################################  OUTPUT  ###############################################"
      ],
      "metadata": {
        "colab": {
          "base_uri": "https://localhost:8080/"
        },
        "id": "mltkjDcYbLEg",
        "outputId": "4ac18cc7-5445-43d8-a6d8-c3349bd865de"
      },
      "execution_count": null,
      "outputs": [
        {
          "output_type": "stream",
          "name": "stdout",
          "text": [
            "\n",
            "\tEnter Number : 5\n",
            " 0\n",
            " 1\n",
            " 1\n",
            " 2\n",
            " 3\n",
            " 5\n",
            " 8\n"
          ]
        }
      ]
    },
    {
      "cell_type": "markdown",
      "source": [
        "\n",
        "\n",
        "---\n",
        "### **10. Write a program in python to implement Factorial series up to user entered number(Use recursive Function)**\n"
      ],
      "metadata": {
        "id": "_UZ_8rEybcXd"
      }
    },
    {
      "cell_type": "code",
      "source": [
        "def fact(n):\n",
        "    count = n\n",
        "    if n==0:\n",
        "        return\n",
        "    num = 1\n",
        "    while(count!=1):\n",
        "        num = num * count\n",
        "        count= count - 1\n",
        "    print(num)    \n",
        "    n= n-1\n",
        "    fact(n)\n",
        "n = int(input(\"\\n\\tEnter Number : \"))\n",
        "fact(n)\n",
        "##################################  OUTPUT  ###############################################"
      ],
      "metadata": {
        "colab": {
          "base_uri": "https://localhost:8080/"
        },
        "id": "Moxen7hfbt0G",
        "outputId": "b0dcf54a-fad6-47be-f380-46a0dc9c1ef4"
      },
      "execution_count": null,
      "outputs": [
        {
          "output_type": "stream",
          "name": "stdout",
          "text": [
            "\n",
            "\tEnter Number : 5\n",
            "120\n",
            "24\n",
            "6\n",
            "2\n",
            "1\n"
          ]
        }
      ]
    },
    {
      "cell_type": "markdown",
      "source": [
        "# **Extra Sheet : 1**"
      ],
      "metadata": {
        "id": "jm8dMY-BmYNa"
      }
    },
    {
      "cell_type": "markdown",
      "source": [
        "\n",
        "\n",
        "---\n",
        "**1. Write a function intreverse(n) that takes as input a positive integer n and returns the\n",
        "integer obtained by reversing the digits in n.**"
      ],
      "metadata": {
        "id": "XkXcEvz1v0mg"
      }
    },
    {
      "cell_type": "code",
      "source": [
        "def rev(num):\n",
        "\tthislist = []\n",
        "\trevnum = 0\n",
        "\twhile(num >= 1):\n",
        "\t\tmod = num % 10\n",
        "\t\trevnum = int(revnum * 10 + mod) \t\n",
        "\t\tnum = num / 10\n",
        "\treturn(revnum)\t\t\n",
        "\n",
        "num = input(\"\\n\\tEnter The Number : \")\n",
        "x = rev(int(num))\n",
        "print(\"\\n\\tReversed Value  =  \",x)\n",
        "print(\"\\n\\tType of Reversed Value = \",type(x))\n",
        "##################################  OUTPUT  ###############################################"
      ],
      "metadata": {
        "colab": {
          "base_uri": "https://localhost:8080/"
        },
        "id": "inTAXX42mc9z",
        "outputId": "1f8b62c2-a8fe-4e92-f88b-deb615cbada9"
      },
      "execution_count": null,
      "outputs": [
        {
          "output_type": "stream",
          "name": "stdout",
          "text": [
            "\n",
            "\tEnter The Number121\n",
            "\n",
            "\tReversed Value  =   121\n",
            "\n",
            "\tType of Reversed Value =  <class 'int'>\n"
          ]
        }
      ]
    },
    {
      "cell_type": "markdown",
      "source": [
        "---\n",
        "\n",
        "**2. Write a function matched(s) that takes as input a string s and checks if the brackets \"(\"\n",
        "and \")\" in s are matched: that is, every \"(\" has a matching \")\" after it and every \")\" has\n",
        "a matching \"(\" before it. Your function should ignore all other symbols that appear in s.\n",
        "Your function should return True if s has matched brackets and False if it does not.\n",
        "Hint: Keep track of the nesting depth of brackets. Initially the depth is 0. The depth increases\n",
        "with each opening bracket and decreases with each closing bracket. What are the constraints\n",
        "on the value of the nesting depth for all brackets to be matched?\n",
        "Here are some examples to show how your function should work.**"
      ],
      "metadata": {
        "id": "GuPy2C-H62z-"
      }
    },
    {
      "cell_type": "code",
      "source": [
        "def match(string):\n",
        "\ttemp = 0\n",
        "\tfor x in string:\n",
        "\t\tif x == \"(\":\n",
        "\t\t\ttemp = temp + 1\t\t\n",
        "\t\telif x == \")\":\n",
        "\t\t\tif(temp > 0):\n",
        "\t\t\t\ttemp = temp -1\n",
        "\t\t\telse :\n",
        "\t\t\t\treturn False\n",
        "\tif temp == 0:\n",
        "\t\treturn True\n",
        "\telse :\n",
        "\t\treturn False\n",
        "string = input(\"\\n\\tEnter String : \")\n",
        "print(match(string))\n",
        "##################################  OUTPUT  ###############################################"
      ],
      "metadata": {
        "colab": {
          "base_uri": "https://localhost:8080/"
        },
        "id": "Fb2EZJ0xmdbD",
        "outputId": "efe445f0-7ab1-4806-cd25-fd11e9caa64f"
      },
      "execution_count": null,
      "outputs": [
        {
          "output_type": "stream",
          "name": "stdout",
          "text": [
            "\n",
            "\tEnter String : (Hello(Wordl))\n",
            "True\n"
          ]
        }
      ]
    },
    {
      "cell_type": "markdown",
      "source": [
        "---\n",
        "**3. Write a function sumprimes(l) that takes as input a list of integers l and retuns the sum of all the prime numbers in l.**"
      ],
      "metadata": {
        "id": "_1LIjjD67BVu"
      }
    },
    {
      "cell_type": "code",
      "source": [
        "size = int(input(\"\\n\\tEnter Numbers of element : \"))\n",
        "numlist = list(map(int,input(\"\\nEnter the numbers : \").strip().split(\",\")))[:size]\n",
        "temp = 0\n",
        "for i in numlist:\n",
        "\tflag = 1\n",
        "\tfor x in range(2,i):\n",
        "\t\tif i % x >= 1:\t\t\t\t\t\n",
        "\t\t\tflag = 1\n",
        "\t\telse:\n",
        "\t\t\tflag = 0\n",
        "\t\t\tbreak\n",
        "\tif flag == 1:\n",
        "\t \ttemp += i\n",
        "print(numlist)\n",
        "print(temp)\n",
        "##################################  OUTPUT  ###############################################"
      ],
      "metadata": {
        "colab": {
          "base_uri": "https://localhost:8080/"
        },
        "id": "DDV8j4CBmdNE",
        "outputId": "c5e070d0-0554-43d8-ac89-0cab5668ce1f"
      },
      "execution_count": null,
      "outputs": [
        {
          "output_type": "stream",
          "name": "stdout",
          "text": [
            "\n",
            "\tEnter Numbers of element : 6\n",
            "\n",
            "Enter the numbers : 1,2,3,4,5,6\n",
            "[1, 2, 3, 4, 5, 6]\n",
            "11\n"
          ]
        }
      ]
    },
    {
      "cell_type": "markdown",
      "source": [
        "---\n",
        "---\n",
        "---"
      ],
      "metadata": {
        "id": "F_gpzsHydYBh"
      }
    },
    {
      "cell_type": "markdown",
      "source": [
        "#**Extra Sheet : 2**"
      ],
      "metadata": {
        "id": "_t4GK9yfb0Tn"
      }
    },
    {
      "cell_type": "markdown",
      "source": [
        "**1. Write a program which will find all such numbers which are divisible by 7 but are\n",
        "not a multiple of 5, between 2000 and 3200 (both included).**\n",
        "\n",
        "**The numbers obtained should be printed in a comma-separated sequence on a single\n",
        "line.**"
      ],
      "metadata": {
        "id": "Hol1zzbnc8HX"
      }
    },
    {
      "cell_type": "code",
      "source": [
        "numlist = [i for i in range(2000,3200) if (i % 7 == 0) and (i % 5 != 0)]\n",
        "print(numlist)\n",
        "##################################  OUTPUT  ###############################################"
      ],
      "metadata": {
        "colab": {
          "base_uri": "https://localhost:8080/"
        },
        "id": "J6H7Kt9ydIHH",
        "outputId": "bd952528-d3d4-49b7-c73b-9f9b74701195"
      },
      "execution_count": null,
      "outputs": [
        {
          "output_type": "stream",
          "name": "stdout",
          "text": [
            "[2002, 2009, 2016, 2023, 2037, 2044, 2051, 2058, 2072, 2079, 2086, 2093, 2107, 2114, 2121, 2128, 2142, 2149, 2156, 2163, 2177, 2184, 2191, 2198, 2212, 2219, 2226, 2233, 2247, 2254, 2261, 2268, 2282, 2289, 2296, 2303, 2317, 2324, 2331, 2338, 2352, 2359, 2366, 2373, 2387, 2394, 2401, 2408, 2422, 2429, 2436, 2443, 2457, 2464, 2471, 2478, 2492, 2499, 2506, 2513, 2527, 2534, 2541, 2548, 2562, 2569, 2576, 2583, 2597, 2604, 2611, 2618, 2632, 2639, 2646, 2653, 2667, 2674, 2681, 2688, 2702, 2709, 2716, 2723, 2737, 2744, 2751, 2758, 2772, 2779, 2786, 2793, 2807, 2814, 2821, 2828, 2842, 2849, 2856, 2863, 2877, 2884, 2891, 2898, 2912, 2919, 2926, 2933, 2947, 2954, 2961, 2968, 2982, 2989, 2996, 3003, 3017, 3024, 3031, 3038, 3052, 3059, 3066, 3073, 3087, 3094, 3101, 3108, 3122, 3129, 3136, 3143, 3157, 3164, 3171, 3178, 3192, 3199]\n"
          ]
        }
      ]
    },
    {
      "cell_type": "markdown",
      "source": [
        "**2. Python Program to Move all Zeros present in an Array/List to the End**"
      ],
      "metadata": {
        "id": "94OLrt_ah6pc"
      }
    },
    {
      "cell_type": "code",
      "source": [
        "numlist = [1,2,0,1,2,0,1,2,0]\n",
        "for x in numlist:\n",
        "\tif x ==  0:\n",
        "\t\tnumlist.remove(x)\n",
        "\t\tnumlist.append(0)\n",
        "print(numlist)\n",
        "##################################  OUTPUT  ###############################################"
      ],
      "metadata": {
        "id": "N5GxohpniD9D",
        "colab": {
          "base_uri": "https://localhost:8080/"
        },
        "outputId": "f944a666-bc93-4a5a-a219-08f6b3ec0e0d"
      },
      "execution_count": null,
      "outputs": [
        {
          "output_type": "stream",
          "name": "stdout",
          "text": [
            "[1, 2, 1, 2, 1, 2, 0, 0, 0]\n"
          ]
        }
      ]
    },
    {
      "cell_type": "markdown",
      "source": [
        "**3. Program to Find a Pair with the Given Sum in an Array in Python**\n"
      ],
      "metadata": {
        "id": "qKJ4_JMsiDlU"
      }
    },
    {
      "cell_type": "code",
      "source": [
        "numlist = [1,2,3,4,5,0,1,2,0]\n",
        "val = int(input(\"\\n\\tEnter Vlaue of Sum\"))\n",
        "print(numlist)\n",
        "\n",
        "for i in range(len(numlist)) :\n",
        "\tfor x in range((i+1),len(numlist)) :\n",
        "\t\tif numlist[i] + numlist[x] == val :\n",
        "\t\t\tprint(numlist[i],numlist[x])\n",
        "   ##################################  OUTPUT  ###############################################"
      ],
      "metadata": {
        "id": "MmfB6zBRiuGz",
        "colab": {
          "base_uri": "https://localhost:8080/"
        },
        "outputId": "c3240d82-3f66-4523-f247-771631f969f3"
      },
      "execution_count": null,
      "outputs": [
        {
          "output_type": "stream",
          "name": "stdout",
          "text": [
            "\n",
            "\tEnter Vlaue of Sum5\n",
            "[1, 2, 3, 4, 5, 0, 1, 2, 0]\n",
            "1 4\n",
            "2 3\n",
            "3 2\n",
            "4 1\n",
            "5 0\n",
            "5 0\n"
          ]
        }
      ]
    },
    {
      "cell_type": "markdown",
      "source": [
        "**4. Python Program to Find the Minimum Difference Between the Index of Two Given Elements Present in an Array**"
      ],
      "metadata": {
        "id": "RuU24yGjiJ-q"
      }
    },
    {
      "cell_type": "code",
      "source": [
        "numlist = [10,2,5,3,7,8]\n",
        "val1 =  int(input(\"\\n\\tEnter Value 1 : \"))\n",
        "val2 =  int(input(\"\\n\\tEnter Value 2 : \"))\n",
        "a=0\n",
        "temp1 = 0\n",
        "temp2 = 0\n",
        "print(numlist)\n",
        "for x in numlist :\n",
        "\ta = a+ 1\n",
        "\tif val1 == x :\n",
        "\t\ttemp1 = a\n",
        "\telif val2 == x : \n",
        "\t\ttemp2 = a\n",
        "print(\"\\n\\tIndex difference \",val1,val2,\" is \",abs(temp1-temp2))\n",
        "##################################  OUTPUT  ###############################################"
      ],
      "metadata": {
        "id": "f0WGTsBriuKC",
        "colab": {
          "base_uri": "https://localhost:8080/"
        },
        "outputId": "5cd3ee84-9f16-4687-ab7a-d8a8f3a6a8cf"
      },
      "execution_count": null,
      "outputs": [
        {
          "output_type": "stream",
          "name": "stdout",
          "text": [
            "\n",
            "\tEnter Value 1 : 10\n",
            "\n",
            "\tEnter Value 2 : 5\n",
            "[10, 2, 5, 3, 7, 8]\n",
            "\n",
            "\tIndex difference  10 5  is  2\n"
          ]
        }
      ]
    },
    {
      "cell_type": "markdown",
      "source": [
        "**5. Python Program to Find the Minimum Index of a Repeating Element in an Array/List**"
      ],
      "metadata": {
        "id": "nX6J3WV8iOvq"
      }
    },
    {
      "cell_type": "code",
      "source": [
        "def index(numlist,num) :\n",
        "\ta=0\n",
        "\tfor x in numlist :\n",
        "\t\tif num == x :\n",
        "\t\t\ta\n",
        "\t\t\tbreak\n",
        "\t\ta = a+ 1\n",
        "\treturn a\n",
        "numlist = [10,2,5,3,7,8,8]\n",
        "print(numlist)\n",
        "num =  int(input(\"\\n\\tEnter Value  : \"))\n",
        "print(\"\\n\\t\",num,\" is at index \",(index(numlist,num)))\n",
        "##################################  OUTPUT  ###############################################"
      ],
      "metadata": {
        "id": "GHrvu_yAiuDa",
        "colab": {
          "base_uri": "https://localhost:8080/"
        },
        "outputId": "0c4c8ab0-21c9-4eb5-e8dd-a4ae54988514"
      },
      "execution_count": null,
      "outputs": [
        {
          "output_type": "stream",
          "name": "stdout",
          "text": [
            "[10, 2, 5, 3, 7, 8, 8]\n",
            "\n",
            "\tEnter Value  : 5\n",
            "\n",
            "\t 5  is at index  2\n"
          ]
        }
      ]
    },
    {
      "cell_type": "markdown",
      "source": [
        "**6. Python Program to Left Rotate a List by R Times**"
      ],
      "metadata": {
        "id": "do1q_z_QiSOS"
      }
    },
    {
      "cell_type": "code",
      "source": [
        "def index(numlist,num) :\n",
        "\tfor x in range(0,num) :\n",
        "\t\tnumlist.append(numlist[0])\n",
        "\t\tnumlist.remove(numlist[0])\n",
        "\treturn numlist\n",
        "numlist = [1,2,3,4,5,6,7]\n",
        "print(numlist)\n",
        "num =  int(input(\"\\n\\tEnter Value  : \"))\n",
        "print(index(numlist,num))\n",
        "##################################  OUTPUT  ###############################################"
      ],
      "metadata": {
        "id": "UNRrS9o4iuAa",
        "colab": {
          "base_uri": "https://localhost:8080/"
        },
        "outputId": "a55e91e6-39d6-4f42-b3d6-f3098808ee02"
      },
      "execution_count": null,
      "outputs": [
        {
          "output_type": "stream",
          "name": "stdout",
          "text": [
            "[1, 2, 3, 4, 5, 6, 7]\n",
            "\n",
            "\tEnter Value  : 5\n",
            "[6, 7, 1, 2, 3, 4, 5]\n"
          ]
        }
      ]
    },
    {
      "cell_type": "markdown",
      "source": [
        "**7. Python Program to Put Even and Odd elements in a List into Two Different Lists**"
      ],
      "metadata": {
        "id": "7aqNduBLiUwL"
      }
    },
    {
      "cell_type": "code",
      "source": [
        "eve =[]\n",
        "odd = []\t\n",
        "list(filter(lambda x:eve.append(x) if  x%2 == 0 else odd.append(x),(int(x) for x in input(\"\\n\\t\").split(\",\"))))\n",
        "print(\"\\n\\t\",eve,\"\\n\\t\",odd)\n",
        "##################################  OUTPUT  ###############################################"
      ],
      "metadata": {
        "id": "7hIUBwDDit9S",
        "colab": {
          "base_uri": "https://localhost:8080/"
        },
        "outputId": "b082c1f1-79a7-4864-de99-c4a8e0dba00c"
      },
      "execution_count": null,
      "outputs": [
        {
          "output_type": "stream",
          "name": "stdout",
          "text": [
            "\n",
            "\t11,22,33,44,55,66,77,88,99\n",
            "\n",
            "\t [22, 44, 66, 88] \n",
            "\t [11, 33, 55, 77, 99]\n"
          ]
        }
      ]
    },
    {
      "cell_type": "markdown",
      "source": [
        "**8. Python Program to Read a List of Words and Return the Length of the Longest Word**"
      ],
      "metadata": {
        "id": "WyU2t1c2iYDy"
      }
    },
    {
      "cell_type": "code",
      "source": [
        "lust = [ x for x in input().split(\" \") ]\n",
        "print(lust)\n",
        "temp = 0\n",
        "word = \"\"\n",
        "for x in lust :\t\n",
        "\tif len(x) > temp:\n",
        "\t\ttemp = len(x)\n",
        "\t\tword = x\n",
        "print(word,temp)\n",
        "##################################  OUTPUT  ###############################################"
      ],
      "metadata": {
        "id": "5OQgOks2it1y",
        "colab": {
          "base_uri": "https://localhost:8080/"
        },
        "outputId": "f2b5212f-f8a7-46cc-ec7f-35df51baafb7"
      },
      "execution_count": null,
      "outputs": [
        {
          "output_type": "stream",
          "name": "stdout",
          "text": [
            "Hello World\n",
            "['Hello', 'World']\n",
            "Hello 5\n"
          ]
        }
      ]
    },
    {
      "cell_type": "markdown",
      "source": [
        "**9. Python Program to Replace Every List Element by Multiplication of Previous and Next**"
      ],
      "metadata": {
        "id": "0k_fjzXCiaxy"
      }
    },
    {
      "cell_type": "code",
      "source": [
        "lst = [1,2,3,4,5,6,7,8,9]\n",
        "newlst = []\n",
        "a = -1\n",
        "for i in range(0,len(lst)) :\n",
        "  a+=1\n",
        "  if a>=len(lst)-1:\n",
        "    newlst.append(lst[len(lst)-1] * lst[0])\n",
        "  else :\n",
        "    newlst.append(lst[a+1] * lst[a-1])\n",
        "print(newlst)\n",
        "##################################  OUTPUT  ###############################################"
      ],
      "metadata": {
        "id": "9-b33ue9iyLS",
        "colab": {
          "base_uri": "https://localhost:8080/"
        },
        "outputId": "c50cf214-e3f3-4e4e-b71e-9bd7c0bc7961"
      },
      "execution_count": null,
      "outputs": [
        {
          "output_type": "stream",
          "name": "stdout",
          "text": [
            "[18, 3, 8, 15, 24, 35, 48, 63, 9]\n"
          ]
        }
      ]
    },
    {
      "cell_type": "markdown",
      "source": [
        "**10. Python Program to Break a List into Chunks of Size N.**"
      ],
      "metadata": {
        "id": "2cXyJiXdidTb"
      }
    },
    {
      "cell_type": "code",
      "source": [
        "mylst = [ i for i in range(1,23)]\n",
        "def myfun(newlist,n) :\n",
        "  for i in range(0,len(newlist),n) : \n",
        "    yield newlist[i:i+n]\n",
        "n = 5\n",
        "chunk_list = list(myfun(mylst,5))\n",
        "for x in chunk_list :\n",
        "  print(x,end=\"\\n\")\n",
        "##################################  OUTPUT  ###############################################"
      ],
      "metadata": {
        "id": "JX7He0V7isfZ",
        "colab": {
          "base_uri": "https://localhost:8080/"
        },
        "outputId": "65216fac-a268-489e-dc26-b80f0dd17bb7"
      },
      "execution_count": null,
      "outputs": [
        {
          "output_type": "stream",
          "name": "stdout",
          "text": [
            "[1, 2, 3, 4, 5]\n",
            "[6, 7, 8, 9, 10]\n",
            "[11, 12, 13, 14, 15]\n",
            "[16, 17, 18, 19, 20]\n",
            "[21, 22]\n"
          ]
        }
      ]
    },
    {
      "cell_type": "markdown",
      "source": [
        "# **Extra Sheet 3**"
      ],
      "metadata": {
        "id": "CioLGJaMjyn5"
      }
    },
    {
      "cell_type": "markdown",
      "source": [
        "**1. Write a list comprehension to make a list from the following list names with all the strings starting with ‘c’**\n",
        "\n",
        "**names = ['Ch','Dh','Eh','cb','Tb','Td']**"
      ],
      "metadata": {
        "id": "pMLf3CR_wQ7A"
      }
    },
    {
      "cell_type": "code",
      "source": [
        "names = ['Ch','Dh','Eh','cb','Tb','Td',\"Gc\"]\n",
        "mylst = list(filter(lambda x :True if \"c\" in x[0] else False ,names))\n",
        "print(mylst)\n",
        "##################################  OUTPUT  ###############################################"
      ],
      "metadata": {
        "colab": {
          "base_uri": "https://localhost:8080/"
        },
        "id": "hl0NhqnYjomg",
        "outputId": "08a5daaf-d70e-47d5-8eae-a45c930054aa"
      },
      "execution_count": null,
      "outputs": [
        {
          "output_type": "stream",
          "name": "stdout",
          "text": [
            "['cb']\n"
          ]
        }
      ]
    },
    {
      "cell_type": "markdown",
      "source": [
        "\n",
        "\n",
        "---\n",
        "**2. create a new list using list comprehension from the range 1 to 100 such that new\n",
        "list contains square of the number and square should be even numbers.**\n"
      ],
      "metadata": {
        "id": "LNh5QBJywPmd"
      }
    },
    {
      "cell_type": "code",
      "source": [
        "names = [x for x in range(1,100)]\n",
        "mylst = list(filter(lambda x :(x*x) if (x*x) % 2 == 0 else False ,names))\n",
        "print(mylst)\n",
        "##################################  OUTPUT  ###############################################"
      ],
      "metadata": {
        "colab": {
          "base_uri": "https://localhost:8080/"
        },
        "id": "fjJoKJzzjv0V",
        "outputId": "a9ba11dc-ab84-41bb-d250-a2ce5fa66daa"
      },
      "execution_count": null,
      "outputs": [
        {
          "output_type": "stream",
          "name": "stdout",
          "text": [
            "[2, 4, 6, 8, 10, 12, 14, 16, 18, 20, 22, 24, 26, 28, 30, 32, 34, 36, 38, 40, 42, 44, 46, 48, 50, 52, 54, 56, 58, 60, 62, 64, 66, 68, 70, 72, 74, 76, 78, 80, 82, 84, 86, 88, 90, 92, 94, 96, 98]\n"
          ]
        }
      ]
    },
    {
      "cell_type": "markdown",
      "source": [
        "\n",
        "\n",
        "---\n",
        "**3. Write a list comprehension to create a list where element is a tuple of 3 elements**\n",
        "\n",
        "**x, y and z**.\n",
        "\n",
        "**The value of x is between 1 to 4.**\n",
        "\n",
        "**The value of y is between 2 to 5**\n",
        "\n",
        "**The value of z is between 5 to 8.**\n",
        "\n",
        "**Also, list should contain only those tuples as element where x + y > z**\n"
      ],
      "metadata": {
        "id": "JWQR_Iu7wWsx"
      }
    },
    {
      "cell_type": "code",
      "source": [
        "lst = [(x,y,z) for x in range(1,4) for y in range(2,5) for z in range(5,8) if x + y > z]\n",
        "print(lst)\n",
        "##################################  OUTPUT  ###############################################"
      ],
      "metadata": {
        "colab": {
          "base_uri": "https://localhost:8080/"
        },
        "id": "nK-lIXiLkKNI",
        "outputId": "1746b7f4-50eb-4a09-9054-ecfea6e6a86d"
      },
      "execution_count": null,
      "outputs": [
        {
          "output_type": "stream",
          "name": "stdout",
          "text": [
            "[(2, 4, 5), (3, 3, 5), (3, 4, 5), (3, 4, 6)]\n"
          ]
        }
      ]
    },
    {
      "cell_type": "markdown",
      "source": [
        "\n",
        "\n",
        "---\n",
        "**4. kilometre = [37.2, 39.5, 27.3, 17.8] convert kilometre into feet using list\n",
        "comprehension**\n"
      ],
      "metadata": {
        "id": "3V-hfB00wdy4"
      }
    },
    {
      "cell_type": "code",
      "source": [
        "km = [37.2, 39.5, 27.3, 17.8]\n",
        "feet=list(map(lambda x : x*3280.84,km))\n",
        "print(feet)\n",
        "##################################  OUTPUT  ###############################################"
      ],
      "metadata": {
        "colab": {
          "base_uri": "https://localhost:8080/"
        },
        "id": "BvQchdDckKIP",
        "outputId": "8154f0f0-33d9-4424-e3fb-e2272ab7f3ae"
      },
      "execution_count": null,
      "outputs": [
        {
          "output_type": "stream",
          "name": "stdout",
          "text": [
            "[122047.24800000002, 129593.18000000001, 89566.932, 58398.952000000005]\n"
          ]
        }
      ]
    },
    {
      "cell_type": "markdown",
      "source": [
        "\n",
        "\n",
        "---\n",
        "**5. matrix = [[10,11,12],[13,14,15],[16,17,18]] create transpose of the matrix using list comprehension.**\n"
      ],
      "metadata": {
        "id": "-u2NHZiTwkES"
      }
    },
    {
      "cell_type": "code",
      "source": [
        "matrics = [[1,2,3,4],[4,5,6,7],[1,7,8,9]]\n",
        "trans = [ [matrics[j][i] for j in range(0,len(matrics))] for i in range(0,len(matrics[0]))]\n",
        "for i in matrics:\n",
        "  print(i,end=\"\\n\")\n",
        "print(\"\\n\\nTranspose:\")\n",
        "for i in trans:\n",
        "  print(i,end=\"\\n\")\n",
        "##################################  OUTPUT  ###############################################"
      ],
      "metadata": {
        "colab": {
          "base_uri": "https://localhost:8080/"
        },
        "id": "6QKltFMGkKCC",
        "outputId": "8793c04b-f129-4149-8349-0ad7b8f7773d"
      },
      "execution_count": null,
      "outputs": [
        {
          "output_type": "stream",
          "name": "stdout",
          "text": [
            "[1, 2, 3, 4]\n",
            "[4, 5, 6, 7]\n",
            "[1, 7, 8, 9]\n",
            "\n",
            "\n",
            "Transpose:\n",
            "[1, 4, 1]\n",
            "[2, 5, 7]\n",
            "[3, 6, 8]\n",
            "[4, 7, 9]\n"
          ]
        }
      ]
    },
    {
      "cell_type": "markdown",
      "source": [
        "\n",
        "\n",
        "---\n",
        "**6. Create a new list from cars where new list will have all the cars except “Maruti”.**\n",
        "\n",
        "**Replace “Maruti” with Mahindra.**\n",
        "\n",
        "**cars = [\"Toyota\", \"Hyundai\", \"Maruti\", \"Tesla\", \"Tata\", \"Honda\"]**\n"
      ],
      "metadata": {
        "id": "p0KzYESRwh-3"
      }
    },
    {
      "cell_type": "code",
      "source": [
        "cars = [\"Toyota\", \"Hyundai\", \"Maruti\", \"Tesla\", \"Tata\", \"Honda\"]\n",
        "cars = list(map(lambda x : x.replace(\"Maruti\",\"Mahindra\"),cars))\n",
        "print(cars)\n",
        "##################################  OUTPUT  ###############################################"
      ],
      "metadata": {
        "colab": {
          "base_uri": "https://localhost:8080/"
        },
        "id": "qy3Pn-k0kSBI",
        "outputId": "ddf21660-8e77-49f9-964d-a46280169b4e"
      },
      "execution_count": null,
      "outputs": [
        {
          "output_type": "stream",
          "name": "stdout",
          "text": [
            "['Toyota', 'Hyundai', 'Mahindra', 'Tesla', 'Tata', 'Honda']\n"
          ]
        }
      ]
    },
    {
      "cell_type": "markdown",
      "source": [
        "# **Extra Sheet 4: Dictionary** "
      ],
      "metadata": {
        "id": "QITemC9Ik1X6"
      }
    },
    {
      "cell_type": "markdown",
      "source": [
        "* We represent scores of batsmen across a sequence of matches in a two level \n",
        "dictionary as\n",
        "follows:\n",
        "\n",
        "{ 'match1' :{'player1':57, 'player2':38}, 'match2':{'player3':9, 'player1':42}'match3':{'player2':41,'player4':63, 'player3':91}\n",
        "\n",
        "\n",
        "\n",
        "Each match is identified by a string, as is each player. The scores are all integers. The names\n",
        "associated with the matches are not fixed (here they are 'match1','match2','match3'), nor are the\n",
        "names of the players. A player need not have a score recorded in all matches.\n",
        "\n",
        "Define a Python function orangecap(d) that reads a dictionary d of this form and identifies\n",
        "the player with the highest total score. Your function should return a\n",
        "pair (playername,topscore) where playername is a string, the name of the player with the highest\n",
        "score, and topscore is an integer, the total score of playername.\n",
        "\n",
        "\n",
        "The input will be such that there are never any ties for highest total score.\n",
        "For instance:\n",
        "orangecap({'match1':{'player1':57, 'player2':38}, 'match2':{'player3':9, 'player1':42},\n",
        "'match3':{'player2':41, 'player4':63, 'player3':91}})\n",
        "('player3', 100)"
      ],
      "metadata": {
        "id": "uryyGbVWzExm"
      }
    },
    {
      "cell_type": "code",
      "source": [
        "matchlist = {'test1':{'Kohli' : 500,'Pujara':102},'test2':{'Jadeja': 610,'Pujara':185,'Kohli':110}}\n",
        "newdict = {}\n",
        "for x in matchlist.values():\n",
        "    for y in x :\n",
        "      if y in newdict:\n",
        "        newdict[y]=newdict[y]+x[y]\n",
        "      else:\n",
        "        newdict[y]=x[y]\n",
        "print(max(newdict,key=newdict.get),\"is orange cap winner with\",max(newdict.values()))\n",
        "##################################  OUTPUT  ###############################################"
      ],
      "metadata": {
        "colab": {
          "base_uri": "https://localhost:8080/"
        },
        "id": "h7Ogpe3clGb7",
        "outputId": "5cd69778-81fe-4c85-f3aa-f8ac2ecaa53c"
      },
      "execution_count": null,
      "outputs": [
        {
          "output_type": "stream",
          "name": "stdout",
          "text": [
            "Kohli is orange cap winner with 610\n"
          ]
        }
      ]
    },
    {
      "cell_type": "markdown",
      "source": [
        "• We have a list of annual rainfall recordings of cities. Each element in the list is of the\n",
        "form (c,r) where c is the city and r is the annual rainfall for a particular year. The list may\n",
        "have multiple entries for the same city, corresponding to rainfall recordings in different\n",
        "years.\n",
        "\n",
        "Write a Python function rainaverage(l) that takes as input a list of rainfall recordings and\n",
        "computes the avarage rainfall for each city.\n",
        "\n",
        "The output should be a list of pairs (c,ar) where c is the city and ar is the average rainfall for this\n",
        "city among the recordings in the input list. Note that ar should be of type float. The output should be\n",
        "sorted in dictionary order with respect to the city name.\n",
        "\n",
        "Here are some examples to show how rainaverage(l) should work.\n",
        "rainaverage([(1,2),(1,3),(2,3),(1,1),(3,8)])\n",
        "[(1, 2.0), (2, 3.0), (3, 8.0)]\n",
        "\n",
        "rainaverage([('Bombay',848),('Madras',103),('Bombay',923),('Bangalore',201),('Madras',128)])\n",
        "[('Bangalore', 201.0), ('Bombay', 885.5), ('Madras', 115.5)]\n"
      ],
      "metadata": {
        "id": "BkpjSw_E6EYR"
      }
    },
    {
      "cell_type": "code",
      "source": [
        "def rainfallAvg(mylst):\n",
        "  mydict = {}\n",
        "  for i in mylst :\n",
        "    if i[0] in mydict :\n",
        "      mydict[i[0]].append(i[1])\n",
        "    else :\n",
        "      mydict[i[0]] = [i[1]]\n",
        "  for i in mydict :\n",
        "    avg = sum(mydict.get(i)) / len(mydict.get(i))\n",
        "    mydict.update({i:avg})\n",
        "  return mydict\n",
        "\n",
        "mylst = []\n",
        "size = input(\"Enter The Number of enteries : \")\n",
        "for i in range(0,int(size)):\n",
        "  temp = ()\n",
        "  city = input(\"\\n\\tName of City : \")\n",
        "  rainfall = input(\"\\n\\tRainfall of \"+city+\" : \")\n",
        "  thistuple = (city,rainfall)\n",
        "  temp = tuple(thistuple)\n",
        "  mylst.append(temp)\n",
        "print(rainfallAvg(mylst))\n",
        "\n",
        "##################################  OUTPUT  ###############################################"
      ],
      "metadata": {
        "colab": {
          "base_uri": "https://localhost:8080/",
          "height": 721
        },
        "id": "D9ceGzK7lOBy",
        "outputId": "f73d8b6b-16f1-4003-8938-a37b31dfc355"
      },
      "execution_count": null,
      "outputs": [
        {
          "name": "stdout",
          "output_type": "stream",
          "text": [
            "Enter The Number of enteries : 5\n",
            "\n",
            "\tName of City : Surat\n",
            "\n",
            "\tRainfall of Surat : 115\n",
            "\n",
            "\tName of City : Surat\n",
            "\n",
            "\tRainfall of Surat : 120\n",
            "\n",
            "\tName of City : Vapi\n",
            "\n",
            "\tRainfall of Vapi : 130\n",
            "\n",
            "\tName of City : Surat\n",
            "\n",
            "\tRainfall of Surat : 120\n",
            "\n",
            "\tName of City : Valsad\n",
            "\n",
            "\tRainfall of Valsad : 112\n"
          ]
        },
        {
          "output_type": "error",
          "ename": "TypeError",
          "evalue": "ignored",
          "traceback": [
            "\u001b[0;31m---------------------------------------------------------------------------\u001b[0m",
            "\u001b[0;31mTypeError\u001b[0m                                 Traceback (most recent call last)",
            "\u001b[0;32m<ipython-input-3-e1c61cda7ea0>\u001b[0m in \u001b[0;36m<module>\u001b[0;34m()\u001b[0m\n\u001b[1;32m     20\u001b[0m   \u001b[0mtemp\u001b[0m \u001b[0;34m=\u001b[0m \u001b[0mtuple\u001b[0m\u001b[0;34m(\u001b[0m\u001b[0mthistuple\u001b[0m\u001b[0;34m)\u001b[0m\u001b[0;34m\u001b[0m\u001b[0;34m\u001b[0m\u001b[0m\n\u001b[1;32m     21\u001b[0m   \u001b[0mmylst\u001b[0m\u001b[0;34m.\u001b[0m\u001b[0mappend\u001b[0m\u001b[0;34m(\u001b[0m\u001b[0mtemp\u001b[0m\u001b[0;34m)\u001b[0m\u001b[0;34m\u001b[0m\u001b[0;34m\u001b[0m\u001b[0m\n\u001b[0;32m---> 22\u001b[0;31m \u001b[0mprint\u001b[0m\u001b[0;34m(\u001b[0m\u001b[0mrainfallAvg\u001b[0m\u001b[0;34m(\u001b[0m\u001b[0mmylst\u001b[0m\u001b[0;34m)\u001b[0m\u001b[0;34m)\u001b[0m\u001b[0;34m\u001b[0m\u001b[0;34m\u001b[0m\u001b[0m\n\u001b[0m\u001b[1;32m     23\u001b[0m \u001b[0;34m\u001b[0m\u001b[0m\n\u001b[1;32m     24\u001b[0m \u001b[0;31m##################################  OUTPUT  ###############################################\u001b[0m\u001b[0;34m\u001b[0m\u001b[0;34m\u001b[0m\u001b[0;34m\u001b[0m\u001b[0m\n",
            "\u001b[0;32m<ipython-input-3-e1c61cda7ea0>\u001b[0m in \u001b[0;36mrainfallAvg\u001b[0;34m(mylst)\u001b[0m\n\u001b[1;32m      7\u001b[0m       \u001b[0mmydict\u001b[0m\u001b[0;34m[\u001b[0m\u001b[0mi\u001b[0m\u001b[0;34m[\u001b[0m\u001b[0;36m0\u001b[0m\u001b[0;34m]\u001b[0m\u001b[0;34m]\u001b[0m \u001b[0;34m=\u001b[0m \u001b[0;34m[\u001b[0m\u001b[0mi\u001b[0m\u001b[0;34m[\u001b[0m\u001b[0;36m1\u001b[0m\u001b[0;34m]\u001b[0m\u001b[0;34m]\u001b[0m\u001b[0;34m\u001b[0m\u001b[0;34m\u001b[0m\u001b[0m\n\u001b[1;32m      8\u001b[0m   \u001b[0;32mfor\u001b[0m \u001b[0mi\u001b[0m \u001b[0;32min\u001b[0m \u001b[0mmydict\u001b[0m \u001b[0;34m:\u001b[0m\u001b[0;34m\u001b[0m\u001b[0;34m\u001b[0m\u001b[0m\n\u001b[0;32m----> 9\u001b[0;31m     \u001b[0mavg\u001b[0m \u001b[0;34m=\u001b[0m \u001b[0msum\u001b[0m\u001b[0;34m(\u001b[0m\u001b[0mmydict\u001b[0m\u001b[0;34m.\u001b[0m\u001b[0mget\u001b[0m\u001b[0;34m(\u001b[0m\u001b[0mi\u001b[0m\u001b[0;34m)\u001b[0m\u001b[0;34m)\u001b[0m \u001b[0;34m/\u001b[0m \u001b[0mlen\u001b[0m\u001b[0;34m(\u001b[0m\u001b[0mmydict\u001b[0m\u001b[0;34m.\u001b[0m\u001b[0mget\u001b[0m\u001b[0;34m(\u001b[0m\u001b[0mi\u001b[0m\u001b[0;34m)\u001b[0m\u001b[0;34m)\u001b[0m\u001b[0;34m\u001b[0m\u001b[0;34m\u001b[0m\u001b[0m\n\u001b[0m\u001b[1;32m     10\u001b[0m     \u001b[0mmydict\u001b[0m\u001b[0;34m.\u001b[0m\u001b[0mupdate\u001b[0m\u001b[0;34m(\u001b[0m\u001b[0;34m{\u001b[0m\u001b[0mi\u001b[0m\u001b[0;34m:\u001b[0m\u001b[0mavg\u001b[0m\u001b[0;34m}\u001b[0m\u001b[0;34m)\u001b[0m\u001b[0;34m\u001b[0m\u001b[0;34m\u001b[0m\u001b[0m\n\u001b[1;32m     11\u001b[0m   \u001b[0;32mreturn\u001b[0m \u001b[0mmydict\u001b[0m\u001b[0;34m\u001b[0m\u001b[0;34m\u001b[0m\u001b[0m\n",
            "\u001b[0;31mTypeError\u001b[0m: unsupported operand type(s) for +: 'int' and 'str'"
          ]
        }
      ]
    },
    {
      "cell_type": "markdown",
      "source": [
        "• A list in Python can contain nested lists. The degree of nesting need not be uniform. \n",
        "\n",
        "For\n",
        "instance [1,2,[3,4,[5,6]]] is a valid Python list. Write a Python function flatten(l) that takes a\n",
        "nonempty list of lists and returns a simple list of all the elements in the nested lists,\n",
        "flattened out. \n",
        "\n",
        "You can make use of the following function that returns True if its input is of\n",
        "type list.\n",
        "\n",
        "def listtype(l):\n",
        " return(type(l) == type([]))\n",
        "\n",
        "Here are some examples to show how flatten(l) should work."
      ],
      "metadata": {
        "id": "naSi0P5M6T6b"
      }
    },
    {
      "cell_type": "code",
      "source": [
        "newlst = []\n",
        "def flatten(mylst) :\n",
        "  for i in mylst :\n",
        "    if type(i) == type([]) :\n",
        "      flatten(i)\n",
        "    else:\n",
        "      newlst.append(i)\n",
        "  return newlst\n",
        "mylst = [ 1,2,[3,[10,20]],[4,[5,6]]]\n",
        "print(flatten(mylst))\n",
        "##################################  OUTPUT  ###############################################"
      ],
      "metadata": {
        "colab": {
          "base_uri": "https://localhost:8080/"
        },
        "id": "Lup2HoyElOKT",
        "outputId": "1230b061-b5dc-4421-e949-d4b9dfdb1ec7"
      },
      "execution_count": null,
      "outputs": [
        {
          "output_type": "stream",
          "name": "stdout",
          "text": [
            "[1, 2, 3, 10, 20, 4, 5, 6]\n"
          ]
        }
      ]
    }
  ]
}