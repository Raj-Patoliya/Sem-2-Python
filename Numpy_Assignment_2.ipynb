{
  "nbformat": 4,
  "nbformat_minor": 0,
  "metadata": {
    "colab": {
      "name": "Numpy Assignment-2.ipynb",
      "provenance": [],
      "collapsed_sections": [],
      "authorship_tag": "ABX9TyN4w0bZPoxkwlhK3VBb2SYx"
    },
    "kernelspec": {
      "name": "python3",
      "display_name": "Python 3"
    },
    "language_info": {
      "name": "python"
    }
  },
  "cells": [
    {
      "cell_type": "markdown",
      "source": [
        "**1. Explore following functions.**\n",
        "\n",
        "a. np.all()\n",
        "\n",
        "b. np.any()\n",
        "\n",
        "c. np.greater()\n",
        "\n",
        "d. np.greater_equal()\n",
        "\n",
        "e. np.less()\n",
        "\n",
        "f. np.less_equal()\n",
        "\n",
        "g. np.allclose()\n",
        "\n",
        "h. np.identity()\n",
        "\n",
        "i. np.nditer()\n",
        "\n",
        "j. np.linspace()\n",
        "\n",
        "k. np.isnan()\n"
      ],
      "metadata": {
        "id": "zQDtS9sWUIgP"
      }
    },
    {
      "cell_type": "code",
      "execution_count": null,
      "metadata": {
        "colab": {
          "base_uri": "https://localhost:8080/"
        },
        "id": "Ogt4eA2BGH9g",
        "outputId": "7328ea4e-7fd9-4f61-9c51-14c3ac30b07e"
      },
      "outputs": [
        {
          "output_type": "stream",
          "name": "stdout",
          "text": [
            "all() =  False\n",
            "any() =  True\n"
          ]
        }
      ],
      "source": [
        "# any()  all()\n",
        "# np.all is Logical And (XAND)\n",
        "# np.any is Logical OR (XOR)\n",
        "import numpy as np\n",
        "arr = [[True,False,False],[False,False,False]]\n",
        "arr2 = [[True],[False]]\n",
        "all = np.all(arr)\n",
        "any = np.any(arr2)\n",
        "print(\"all() = \",all)\n",
        "print(\"any() = \",any)"
      ]
    },
    {
      "cell_type": "code",
      "source": [
        "#greater and greater_equal\n",
        "arr = [8,2,3,4 ]\n",
        "arr2 = [8,6,7,8]\n",
        "print(np.greater(arr,arr2)) \n",
        "print(np.greater_equal(arr,arr2))"
      ],
      "metadata": {
        "colab": {
          "base_uri": "https://localhost:8080/"
        },
        "id": "abhkWhsHOU9D",
        "outputId": "40500c13-0897-4d56-a648-2cb7f22bd5dc"
      },
      "execution_count": null,
      "outputs": [
        {
          "output_type": "stream",
          "name": "stdout",
          "text": [
            "[False False False False]\n",
            "[ True False False False]\n"
          ]
        }
      ]
    },
    {
      "cell_type": "code",
      "source": [
        "#less and less_equal\n",
        "arr = [8,2,3,4 ]\n",
        "arr2 = [8,6,7,8]\n",
        "print(np.less(arr,arr2)) \n",
        "print(np.less_equal(arr,arr2))"
      ],
      "metadata": {
        "colab": {
          "base_uri": "https://localhost:8080/"
        },
        "id": "FjGwlB3iOCSU",
        "outputId": "f387add7-0f37-4b99-bc25-583c125eec9c"
      },
      "execution_count": null,
      "outputs": [
        {
          "output_type": "stream",
          "name": "stdout",
          "text": [
            "[False  True  True  True]\n",
            "[ True  True  True  True]\n"
          ]
        }
      ]
    },
    {
      "cell_type": "code",
      "source": [
        "# identity()\n",
        "a = np.identity(4,dtype=int)\n",
        "print(a)"
      ],
      "metadata": {
        "colab": {
          "base_uri": "https://localhost:8080/"
        },
        "id": "pep4dVZYONeD",
        "outputId": "51274c4f-19ba-4aae-ce12-974f425332d1"
      },
      "execution_count": null,
      "outputs": [
        {
          "output_type": "stream",
          "name": "stdout",
          "text": [
            "[[1 0 0 0]\n",
            " [0 1 0 0]\n",
            " [0 0 1 0]\n",
            " [0 0 0 1]]\n"
          ]
        }
      ]
    },
    {
      "cell_type": "code",
      "source": [
        "arr7 = [[8,2,3,4],[10,13,14,9],[5,6,7,1]]\n",
        "print(arr7)\n",
        "for i  in np.nditer(arr7, order = 'F'): \n",
        "    print(i)"
      ],
      "metadata": {
        "colab": {
          "base_uri": "https://localhost:8080/"
        },
        "id": "SrM4lyhwBogg",
        "outputId": "45e0a8a0-bba9-4223-973c-8d6ce1002d95"
      },
      "execution_count": null,
      "outputs": [
        {
          "output_type": "stream",
          "name": "stdout",
          "text": [
            "[[8, 2, 3, 4], [10, 13, 14, 9], [5, 6, 7, 1]]\n",
            "(array(8), array(10), array(5))\n",
            "(array(2), array(13), array(6))\n",
            "(array(3), array(14), array(7))\n",
            "(array(4), array(9), array(1))\n"
          ]
        }
      ]
    },
    {
      "cell_type": "code",
      "source": [
        "np.linspace(10,20,5)\n",
        "aa = [1,2,3,np.nan]\n",
        "a=np.array(aa)\n",
        "print(aa)\n",
        "print(np.isnan(a))"
      ],
      "metadata": {
        "colab": {
          "base_uri": "https://localhost:8080/"
        },
        "id": "pgIUDpDQCZru",
        "outputId": "b5de892d-a2b7-4329-96ef-d7578d741199"
      },
      "execution_count": null,
      "outputs": [
        {
          "output_type": "stream",
          "name": "stdout",
          "text": [
            "[1, 2, 3, nan]\n",
            "[False False False  True]\n"
          ]
        }
      ]
    },
    {
      "cell_type": "markdown",
      "source": [
        "### **2. Write a NumPy program to create an element-wise comparison (greater, greater_equal, less and less_equal) of two given arrays**"
      ],
      "metadata": {
        "id": "FM0175vfOjE0"
      }
    },
    {
      "cell_type": "code",
      "source": [
        "arr = np.array([10,20,30,40,50,60,70])\n",
        "arr2 = np.array([70,60,50,40,30,20,10])\n",
        "print(np.greater(arr,arr2))\n",
        "print(np.greater_equal(arr,arr2))\n",
        "print(np.less(arr,arr2))\n",
        "print(np.less_equal(arr,arr2))"
      ],
      "metadata": {
        "id": "H4_eJ4RMO0Zx",
        "colab": {
          "base_uri": "https://localhost:8080/"
        },
        "outputId": "cbe92de9-0dde-4071-c8df-11089250410d"
      },
      "execution_count": null,
      "outputs": [
        {
          "output_type": "stream",
          "name": "stdout",
          "text": [
            "[False False False False  True  True  True]\n",
            "[False False False  True  True  True  True]\n",
            "[ True  True  True False False False False]\n",
            "[ True  True  True  True False False False]\n"
          ]
        }
      ]
    },
    {
      "cell_type": "markdown",
      "source": [
        "### **3. Write a NumPy program to create an array with the values 1, 7, 13, 105 and determine the size of the memory occupied by the array.**"
      ],
      "metadata": {
        "id": "NLz4Iutd6T4a"
      }
    },
    {
      "cell_type": "code",
      "source": [
        "arr = np.array([1,7,13,105])\n",
        "print(arr.nbytes)"
      ],
      "metadata": {
        "colab": {
          "base_uri": "https://localhost:8080/"
        },
        "id": "7nGgwXU28xLM",
        "outputId": "a9e85816-602b-4641-94f9-b86ac33c3a2a"
      },
      "execution_count": null,
      "outputs": [
        {
          "output_type": "stream",
          "name": "stdout",
          "text": [
            "32\n"
          ]
        }
      ]
    },
    {
      "cell_type": "markdown",
      "source": [
        "### **4. Write a NumPy program to create an array of 10 zeros,10 ones, 10 fives**"
      ],
      "metadata": {
        "id": "KMm98Q_gAgD5"
      }
    },
    {
      "cell_type": "code",
      "source": [
        "arr = np.zeros(10)\n",
        "print(arr)\n",
        "arr = np.ones(10)\n",
        "print(arr)\n",
        "arr = np.ones(10)*5\n",
        "print(arr)"
      ],
      "metadata": {
        "colab": {
          "base_uri": "https://localhost:8080/"
        },
        "id": "2LplJAvsAp19",
        "outputId": "48267090-8b2f-4af4-d4b9-a04caf0eb8f5"
      },
      "execution_count": null,
      "outputs": [
        {
          "output_type": "stream",
          "name": "stdout",
          "text": [
            "[0. 0. 0. 0. 0. 0. 0. 0. 0. 0.]\n",
            "[1. 1. 1. 1. 1. 1. 1. 1. 1. 1.]\n",
            "[5. 5. 5. 5. 5. 5. 5. 5. 5. 5.]\n"
          ]
        }
      ]
    },
    {
      "cell_type": "markdown",
      "source": [
        "### **5. Write a NumPy program to create an array of the integers from 40 to 60**"
      ],
      "metadata": {
        "id": "cKBH80exBrdi"
      }
    },
    {
      "cell_type": "code",
      "source": [
        "arr= np.arange(40,60)\n",
        "print(arr)"
      ],
      "metadata": {
        "colab": {
          "base_uri": "https://localhost:8080/"
        },
        "id": "bK9FbxWkA3f5",
        "outputId": "c53358d7-1b7d-41d4-a4fd-2609dcb92d76"
      },
      "execution_count": null,
      "outputs": [
        {
          "output_type": "stream",
          "name": "stdout",
          "text": [
            "[40 41 42 43 44 45 46 47 48 49 50 51 52 53 54 55 56 57 58 59]\n"
          ]
        }
      ]
    },
    {
      "cell_type": "markdown",
      "source": [
        "### **6. Write a NumPy program to create an array of all the even integers from 30 to 70**"
      ],
      "metadata": {
        "id": "_G8FRXOSEMcB"
      }
    },
    {
      "cell_type": "code",
      "source": [
        "arr= np.arange(30,70,2)\n",
        "print(arr)"
      ],
      "metadata": {
        "colab": {
          "base_uri": "https://localhost:8080/"
        },
        "id": "B-dTOZAzEXU5",
        "outputId": "595ead12-de78-44f0-c919-98a1683fd74f"
      },
      "execution_count": null,
      "outputs": [
        {
          "output_type": "stream",
          "name": "stdout",
          "text": [
            "[30 32 34 36 38 40 42 44 46 48 50 52 54 56 58 60 62 64 66 68]\n"
          ]
        }
      ]
    },
    {
      "cell_type": "markdown",
      "source": [
        "### **7. Write a NumPy program to create a 3X4 array and iterate over it.**"
      ],
      "metadata": {
        "id": "H4KZt5AuE3Ke"
      }
    },
    {
      "cell_type": "code",
      "source": [
        "a = np.arange(10,22).reshape((3, 4))\n",
        "print(\"Original array:\")\n",
        "print(a)\n",
        "print(\"Each element of the array is:\")\n",
        "for x in np.nditer(a):\n",
        "  print(x,end=\" \")"
      ],
      "metadata": {
        "id": "7eIKQwWkE2M3",
        "colab": {
          "base_uri": "https://localhost:8080/"
        },
        "outputId": "74d1f4c9-8d92-4b94-bfe2-a9255cec5e13"
      },
      "execution_count": null,
      "outputs": [
        {
          "output_type": "stream",
          "name": "stdout",
          "text": [
            "Original array:\n",
            "[[10 11 12 13]\n",
            " [14 15 16 17]\n",
            " [18 19 20 21]]\n",
            "Each element of the array is:\n",
            "10 11 12 13 14 15 16 17 18 19 20 21 "
          ]
        }
      ]
    },
    {
      "cell_type": "markdown",
      "source": [
        "### **8. Write a NumPy program to compute sum of all elements, sum of each column and sum of each row of a given array.**"
      ],
      "metadata": {
        "id": "ggIaNWkMrci6"
      }
    },
    {
      "cell_type": "code",
      "source": [
        "arr = np.arange(0,9).reshape(3,3)\n",
        "print(\"array 1 :\")\n",
        "print(arr)\n",
        "print(\"Sum of rows :\",np.sum(arr,axis=1))\n",
        "print(\"Sum of column :\",np.sum(arr,axis=0))"
      ],
      "metadata": {
        "colab": {
          "base_uri": "https://localhost:8080/"
        },
        "id": "XDbCb99PriZ8",
        "outputId": "9084bd70-7dbc-4ff6-9ae5-f9084c9742d3"
      },
      "execution_count": null,
      "outputs": [
        {
          "output_type": "stream",
          "name": "stdout",
          "text": [
            "array 1 :\n",
            "[[0 1 2]\n",
            " [3 4 5]\n",
            " [6 7 8]]\n",
            "Sum of rows : [ 3 12 21]\n",
            "Sum of column : [ 9 12 15]\n"
          ]
        }
      ]
    },
    {
      "cell_type": "markdown",
      "source": [
        "### **9.Write a NumPy program to convert a given list into an array, then again convert it into a list. Check initial list and final list are equal or not.**"
      ],
      "metadata": {
        "id": "VxH2WLCysIAk"
      }
    },
    {
      "cell_type": "code",
      "source": [
        "lst=[1,2,3,4,5,6,7,8]\n",
        "arr=np.array(lst)\n",
        "print(\"Original list : \",lst)\n",
        "ls=list(arr)\n",
        "print(\"Into array : \",arr)\n",
        "print(\"Again in  list : \",ls)\n",
        "if(lst==ls):\n",
        "  print(\"Both list are equal\")"
      ],
      "metadata": {
        "colab": {
          "base_uri": "https://localhost:8080/"
        },
        "id": "77snMJFWsSYz",
        "outputId": "6ac0f500-1109-4bb0-f83f-77e7d2bef34d"
      },
      "execution_count": null,
      "outputs": [
        {
          "output_type": "stream",
          "name": "stdout",
          "text": [
            "Original list :  [1, 2, 3, 4, 5, 6, 7, 8]\n",
            "Into array :  [1 2 3 4 5 6 7 8]\n",
            "Again in  list :  [1, 2, 3, 4, 5, 6, 7, 8]\n",
            "Both list are equal\n"
          ]
        }
      ]
    },
    {
      "cell_type": "markdown",
      "source": [
        "### **10.Write a NumPy program to sort a given array by row and column in ascending order.**"
      ],
      "metadata": {
        "id": "zuSxlz3PsdRa"
      }
    },
    {
      "cell_type": "code",
      "source": [
        "arr=np.array([3,5,1,5,2,8,6,4]).reshape(2,4)\n",
        "print(\"Sort by column : \")\n",
        "print(np.sort(arr,axis=0))\n",
        "print(\"Sort by rows : \")\n",
        "print(np.sort(arr,axis=1))"
      ],
      "metadata": {
        "colab": {
          "base_uri": "https://localhost:8080/"
        },
        "id": "gbeBDLhIsZk4",
        "outputId": "3aea212d-0c6f-422c-9635-3c224c29de89"
      },
      "execution_count": null,
      "outputs": [
        {
          "output_type": "stream",
          "name": "stdout",
          "text": [
            "Sort by column : \n",
            "[[2 5 1 4]\n",
            " [3 8 6 5]]\n",
            "Sort by rows : \n",
            "[[1 3 5 5]\n",
            " [2 4 6 8]]\n"
          ]
        }
      ]
    },
    {
      "cell_type": "markdown",
      "source": [
        "### **11.Write a NumPy program to swap rows and columns of a given array in reverse order**"
      ],
      "metadata": {
        "id": "KWshfQ8dspmd"
      }
    },
    {
      "cell_type": "code",
      "source": [
        "ar1 = np.array([1,2,3,4,5,6,7,8,9]).reshape(3,3)\n",
        "print(\"Original arr : \\n\",ar1)\n",
        "ar1 = ar1[::-1]\n",
        "print(\"In reverce order  : \\n\",ar1)"
      ],
      "metadata": {
        "colab": {
          "base_uri": "https://localhost:8080/"
        },
        "id": "2rEo1qd1svMn",
        "outputId": "46b1201c-b6b3-4f19-d9ad-6fd0440748d6"
      },
      "execution_count": null,
      "outputs": [
        {
          "output_type": "stream",
          "name": "stdout",
          "text": [
            "Original arr : \n",
            " [[1 2 3]\n",
            " [4 5 6]\n",
            " [7 8 9]]\n",
            "In reverce order  : \n",
            " [[7 8 9]\n",
            " [4 5 6]\n",
            " [1 2 3]]\n"
          ]
        }
      ]
    }
  ]
}