{
  "cells": [
    {
      "cell_type": "markdown",
      "source": [
        "**1. Consider a student object, write a student class with attributes id, name,marks1, marks2 and marks3 and methods display and calculate_Percentage also constructor. Use pickle to dump and load the object student in and from a binary file.**"
      ],
      "metadata": {
        "id": "jLvBukhAGxmh"
      }
    },
    {
      "cell_type": "code",
      "source": [
        "#Student Class \n",
        "class Student:\n",
        "    def __init__(self,id,name,marks1,marks2,marks3):\n",
        "      self.id = id\n",
        "      self.name = name\n",
        "      self.marks1 = marks1\n",
        "      self.marks2 = marks2\n",
        "      self.marks3 = marks3\n",
        "    def display(self):\n",
        "      print(\"\\n\\tId : \",self.id)\n",
        "      print(\"\\n\\tName : \",self.name)\n",
        "      print(\"\\n\\tMarks 1 : \",self.marks1)\n",
        "      print(\"\\n\\tMarks 2 : \",self.marks2)\n",
        "      print(\"\\n\\tMarks 3 : \",self.marks3)\n",
        "      print(\"\\n\\tPercentage : \",((self.marks1+self.marks2+self.marks3)*100)/300)\n",
        "    def percentage(self):\n",
        "      print(\"\\n\\tPercentage : \",((self.marks1+self.marks2+self.marks3)*100)/300)"
      ],
      "metadata": {
        "id": "vfKI3Em5HE0x"
      },
      "execution_count": 1,
      "outputs": []
    },
    {
      "cell_type": "code",
      "source": [
        "from google.colab import drive\n",
        "drive.mount('/content/drive')"
      ],
      "metadata": {
        "colab": {
          "base_uri": "https://localhost:8080/"
        },
        "id": "MSrBMyl3-eZK",
        "outputId": "8acc4ebf-569f-4bdf-aad7-6dd6c96be299"
      },
      "execution_count": 5,
      "outputs": [
        {
          "output_type": "stream",
          "name": "stdout",
          "text": [
            "Mounted at /content/drive\n"
          ]
        }
      ]
    },
    {
      "cell_type": "code",
      "source": [
        "%run Student.py %"
      ],
      "metadata": {
        "id": "uBPgNbgWoTVE"
      },
      "execution_count": null,
      "outputs": []
    },
    {
      "cell_type": "code",
      "source": [
        "#Writing in a dat file\n",
        "import Student , pickle\n",
        "f=open(\"Student.py\",'wb')\n",
        "n=int(input(\"Enter Number of Student : \"))\n",
        "for i in range(n):\n",
        "  id=int(input(\"Enter Id : \"))\n",
        "  name=input(\"Enter name : \")\n",
        "  marks1=int(input(\"Enter marks1 : \"))\n",
        "  marks2=int(input(\"Enter marks2 : \"))\n",
        "  marks3=int(input(\"Enter marks3: \"))\n",
        "  s=Student.Student(id,name,marks1,marks2,marks3)\n",
        "  pickle.dump(s,f)\n",
        "f.close()"
      ],
      "metadata": {
        "colab": {
          "base_uri": "https://localhost:8080/"
        },
        "id": "nQAJoIhgoNhU",
        "outputId": "ae1b3829-8457-40ad-e918-6fd893177022"
      },
      "execution_count": null,
      "outputs": [
        {
          "name": "stdout",
          "output_type": "stream",
          "text": [
            "Enter Number of Student : 1\n",
            "Enter Id : 101\n",
            "Enter name : Raj\n",
            "Enter marks1 : 25\n",
            "Enter marks2 : 30\n",
            "Enter marks3: 96\n"
          ]
        }
      ]
    },
    {
      "cell_type": "code",
      "source": [
        "#Reading from the file\n",
        "import Student\n",
        "import pickle as p\n",
        "f = open('Student.py','rb')\n",
        "print('Student details are as: \\n\\n')\n",
        "while True:\n",
        "  try:\n",
        "    obj = p.load(f)\n",
        "    obj.display()\n",
        "  except EOFError:\n",
        "    print('End of file reached.....')\n",
        "    break\n",
        "f.close()\n",
        "\n",
        "\n"
      ],
      "metadata": {
        "colab": {
          "base_uri": "https://localhost:8080/"
        },
        "id": "x1T8yq42qJq1",
        "outputId": "51b1a4b0-7ae5-47d6-cafb-b852e83d2034"
      },
      "execution_count": null,
      "outputs": [
        {
          "output_type": "stream",
          "name": "stdout",
          "text": [
            "Student details are as: \n",
            "\n",
            "\n",
            "\n",
            "\tId :  101\n",
            "\n",
            "\tName :  Raj\n",
            "\n",
            "\tMarks 1 :  25\n",
            "\n",
            "\tMarks 2 :  30\n",
            "\n",
            "\tMarks 3 :  96\n",
            "\n",
            "\tPercentage :  50.333333333333336\n",
            "End of file reached.....\n"
          ]
        }
      ]
    },
    {
      "cell_type": "markdown",
      "source": [
        "**2. Write a python program to search a city name in the file, modify a city\n",
        "name in the file and delete a city in a file. (use binary file to store data)**"
      ],
      "metadata": {
        "id": "YrFusyFduzY-"
      }
    },
    {
      "cell_type": "code",
      "source": [
        "recordlen = 50\n",
        "n = int(input(\"Enter The Nos of City\"))\n",
        "f=open(\"cityList.bin\",\"wb\")\n",
        "print(n)\n",
        "for i in range(n):\n",
        "  city = input(\"Enter the name of city\")\n",
        "  print(city)\n",
        "  print(len(city))\n",
        "  city = city + (recordlen-len(city))*' '\n",
        "  length = len(city)\n",
        "  print(length)\n",
        "  city = city.encode()\n",
        "  f.write(city)\n",
        "f.close()"
      ],
      "metadata": {
        "id": "2J9dpuzyvLKs",
        "colab": {
          "base_uri": "https://localhost:8080/"
        },
        "outputId": "993a3419-ed3b-465f-e0cf-c775f622eb1f"
      },
      "execution_count": null,
      "outputs": [
        {
          "output_type": "stream",
          "name": "stdout",
          "text": [
            "Enter The Nos of City2\n",
            "2\n",
            "Enter the name of citySurat\n",
            "Surat\n",
            "5\n",
            "50\n",
            "Enter the name of cityDaman\n",
            "Daman\n",
            "5\n",
            "50\n"
          ]
        }
      ]
    },
    {
      "cell_type": "code",
      "source": [
        "import os\n",
        "reclen = 20\n",
        "size = os.path.getsize('cityList.bin')\n",
        "print('Size of file = {} bytes'.format(size))\n",
        "n = int(size/reclen)\n",
        "print('No. of records = {}'.format(n))\n",
        "with open('cityList.bin','rb') as f:\n",
        "  name = input('Enter city name: ')\n",
        "  name = name.encode()\n",
        "  position = 0\n",
        "  found = False\n",
        "  for i in range(n):\n",
        "    f.seek(position)\n",
        "    str = f.read(20)\n",
        "    if name in str:\n",
        "      print('City found at record no: ', (i+1))\n",
        "      found= True\n",
        "    position+=reclen\n",
        "if not found:\n",
        "  print('City not found')"
      ],
      "metadata": {
        "colab": {
          "base_uri": "https://localhost:8080/"
        },
        "id": "ZsaohG1ZSYnE",
        "outputId": "5b8397c6-f1e0-4afa-88cf-b7512f8fc4a7"
      },
      "execution_count": null,
      "outputs": [
        {
          "output_type": "stream",
          "name": "stdout",
          "text": [
            "Size of file = 150 bytes\n",
            "No. of records = 7\n",
            "Enter city name: Surat\n",
            "City found at record no:  1\n"
          ]
        }
      ]
    },
    {
      "cell_type": "markdown",
      "source": [
        "**3. Write a python program to count number of lines, words and characters\n",
        "in a text file.**"
      ],
      "metadata": {
        "id": "aYyYqj1MT0h8"
      }
    },
    {
      "cell_type": "code",
      "source": [
        "import os, sys\n",
        "fname = input('Enter filename: ')\n",
        "if os.path.isfile(fname):\n",
        "  f = open(fname,'rt')\n",
        "else:\n",
        "  print(fname+ ' does not exist')\n",
        "  sys.exit()\n",
        "print('The file contents are: ')\n",
        "string = f.read()\n",
        "print(string)\n",
        "words = len(string.split())\n",
        "character = len(string)\n",
        "num_lines = 0\n",
        "with open(fname, 'r') as f:\n",
        "  for line in f:\n",
        "    num_lines += 1\n",
        "print('No. of lines: ', num_lines)\n",
        "print('No. of words: ', words)\n",
        "print('No. of characters : ', character)\n",
        "f.close()"
      ],
      "metadata": {
        "colab": {
          "base_uri": "https://localhost:8080/"
        },
        "id": "eRA9W8GZUAK4",
        "outputId": "708dc9c7-94cd-4475-a472-12a5538b3eab"
      },
      "execution_count": null,
      "outputs": [
        {
          "output_type": "stream",
          "name": "stdout",
          "text": [
            "Enter filename: Mytxt.txt\n",
            "The file contents are: \n",
            "hello myself mr_naveen\n",
            "No. of lines:  1\n",
            "No. of words:  3\n",
            "No. of characters :  22\n"
          ]
        }
      ]
    },
    {
      "cell_type": "markdown",
      "metadata": {
        "id": "0ivusiRaETpd"
      },
      "source": [
        "<br>\n",
        "<br>\n",
        "<br>\n",
        "<br>\n",
        "\n",
        "###**4. Consider data shown in table I in student.csv file, and write listed programs in python**\n",
        "<table border=\"1\">\n",
        "<tr><td>ID</td><td>Name</td><td>Age</td><td>Marks</td><td>Branch</td><td>Stipend</td></tr>\n",
        "\n",
        "<tr><td>21</td><td>  Tarang</td><td> 22</td><td> 90</td><td> MCA</td><td> 15000</td></tr>\n",
        "\n",
        "<tr><td>22</td><td> Sanjay</td><td> 30</td><td> 80</td><td> MCA</td><td> 20000</td></tr>\n",
        "\n",
        "<tr><td>23</td><td> Ram</td><td> 21</td><td> 87</td><td> IT</td><td> 6000</td></tr>\n",
        "\n",
        "<tr><td>24</td><td> Shyam</td><td> 23</td><td> 76</td><td> MCA</td><td> 8000</td></tr>\n",
        "\n",
        "<tr><td>25</td><td> Ghanshyam</td><td> 31</td><td> 35</td><td> IT</td><td> 15000</td></tr>\n",
        "\n",
        "<tr><td>26 </td><td>Radhe</td><td> 33</td><td> 23</td><td> IT</td><td> 6000</td></tr>\n",
        "\n",
        "<tr><td>27</td><td> Jamana</td><td> 20</td><td> 99</td><td> MCA</td><td> 6000</td></tr>\n",
        "\n",
        "<tr><td>28</td><td> Samrat</td><td> 20</td><td> 88</td><td> CO </td><td>8000</td></tr>\n",
        "\n",
        "<tr><td>29</td><td> Krupa</td><td> 20</td><td> 89</td><td> CO</td><td> 10000</td></tr>\n",
        "\n",
        "<tr><td>30</td><td> Garima</td><td> 20</td><td> 57</td><td> MCA</td><td> 12000</td></tr>\n",
        "\n",
        "<tr><td>31 </td><td>Niteen</td><td> 21</td><td> 65</td><td> MCA</td><td> 12000</td></tr>\n",
        "\n",
        "<tr><td>32</td><td> Ajya</td><td> 31</td><td> 20</td><td> MCA</td><td> 14200</td></tr>\n",
        "\n",
        "<tr><td>33</td><td> Vijay</td><td> 23</td><td> 98</td><td> MCA</td><td> 15000</td></tr>\n",
        "\n",
        "<tr><td>34</td><td> Fatima</td><td> 21</td><td> 91</td><td> IT</td><td> 5000</td></tr>\n",
        "</table>\n",
        "\n",
        "a. A program to display Id on X-axis and Stipend on Y-axis in the form\n",
        "of bar graph.\n",
        "\n",
        "b. A program to display histogram showing the percentage of\n",
        "Students in specific age group.\n",
        "\n",
        "c. Write program to find total number of students in Branch MCA, IT\n",
        "and CO departments.\n",
        "\n",
        "d. A program to display pie chart showing the percentage of students\n",
        "in various branches.\n",
        "\n",
        "e. Display name of student with maximum stipend.\n",
        "\n",
        "f. Display names of student who’s age is 20."
      ]
    },
    {
      "cell_type": "code",
      "execution_count": 3,
      "metadata": {
        "id": "4wBghLqWDzjy"
      },
      "outputs": [],
      "source": [
        "import numpy as np\n",
        "import pandas as pd\n",
        "import matplotlib.pyplot as plt"
      ]
    },
    {
      "cell_type": "code",
      "execution_count": 8,
      "metadata": {
        "id": "4DSD2V4zHl9Z",
        "colab": {
          "base_uri": "https://localhost:8080/",
          "height": 488
        },
        "outputId": "6a9db98c-6bc0-46f4-cd06-8d194cc91c96"
      },
      "outputs": [
        {
          "output_type": "execute_result",
          "data": {
            "text/plain": [
              "    Id       Name  Age  Marks Branch  Stipend\n",
              "0   21     Tarang   22     90    MCA    15000\n",
              "1   22     Sanjay   30     80    MCA    20000\n",
              "2   23        Ram   21     87     IT     6000\n",
              "3   24      Shyam   23     76    MCA     8000\n",
              "4   25  Ghanshyam   31     35     IT    15000\n",
              "5   26      Radhe   33     23     IT     6000\n",
              "6   27     Jamana   20     99    MCA     6000\n",
              "7   28     Samrat   20     88     CO     8000\n",
              "8   29      Krupa   20     89     CO    10000\n",
              "9   30     Garima   20     57    MCA    12000\n",
              "10  31     Niteen   21     65    MCA    12000\n",
              "11  32       Ajya   31     20    MCA    14200\n",
              "12  33      Vijay   23     98    MCA    15000\n",
              "13  34     Fatima   21     91     IT     5000"
            ],
            "text/html": [
              "\n",
              "  <div id=\"df-8108c3c8-312c-4532-b199-02cf36174cd0\">\n",
              "    <div class=\"colab-df-container\">\n",
              "      <div>\n",
              "<style scoped>\n",
              "    .dataframe tbody tr th:only-of-type {\n",
              "        vertical-align: middle;\n",
              "    }\n",
              "\n",
              "    .dataframe tbody tr th {\n",
              "        vertical-align: top;\n",
              "    }\n",
              "\n",
              "    .dataframe thead th {\n",
              "        text-align: right;\n",
              "    }\n",
              "</style>\n",
              "<table border=\"1\" class=\"dataframe\">\n",
              "  <thead>\n",
              "    <tr style=\"text-align: right;\">\n",
              "      <th></th>\n",
              "      <th>Id</th>\n",
              "      <th>Name</th>\n",
              "      <th>Age</th>\n",
              "      <th>Marks</th>\n",
              "      <th>Branch</th>\n",
              "      <th>Stipend</th>\n",
              "    </tr>\n",
              "  </thead>\n",
              "  <tbody>\n",
              "    <tr>\n",
              "      <th>0</th>\n",
              "      <td>21</td>\n",
              "      <td>Tarang</td>\n",
              "      <td>22</td>\n",
              "      <td>90</td>\n",
              "      <td>MCA</td>\n",
              "      <td>15000</td>\n",
              "    </tr>\n",
              "    <tr>\n",
              "      <th>1</th>\n",
              "      <td>22</td>\n",
              "      <td>Sanjay</td>\n",
              "      <td>30</td>\n",
              "      <td>80</td>\n",
              "      <td>MCA</td>\n",
              "      <td>20000</td>\n",
              "    </tr>\n",
              "    <tr>\n",
              "      <th>2</th>\n",
              "      <td>23</td>\n",
              "      <td>Ram</td>\n",
              "      <td>21</td>\n",
              "      <td>87</td>\n",
              "      <td>IT</td>\n",
              "      <td>6000</td>\n",
              "    </tr>\n",
              "    <tr>\n",
              "      <th>3</th>\n",
              "      <td>24</td>\n",
              "      <td>Shyam</td>\n",
              "      <td>23</td>\n",
              "      <td>76</td>\n",
              "      <td>MCA</td>\n",
              "      <td>8000</td>\n",
              "    </tr>\n",
              "    <tr>\n",
              "      <th>4</th>\n",
              "      <td>25</td>\n",
              "      <td>Ghanshyam</td>\n",
              "      <td>31</td>\n",
              "      <td>35</td>\n",
              "      <td>IT</td>\n",
              "      <td>15000</td>\n",
              "    </tr>\n",
              "    <tr>\n",
              "      <th>5</th>\n",
              "      <td>26</td>\n",
              "      <td>Radhe</td>\n",
              "      <td>33</td>\n",
              "      <td>23</td>\n",
              "      <td>IT</td>\n",
              "      <td>6000</td>\n",
              "    </tr>\n",
              "    <tr>\n",
              "      <th>6</th>\n",
              "      <td>27</td>\n",
              "      <td>Jamana</td>\n",
              "      <td>20</td>\n",
              "      <td>99</td>\n",
              "      <td>MCA</td>\n",
              "      <td>6000</td>\n",
              "    </tr>\n",
              "    <tr>\n",
              "      <th>7</th>\n",
              "      <td>28</td>\n",
              "      <td>Samrat</td>\n",
              "      <td>20</td>\n",
              "      <td>88</td>\n",
              "      <td>CO</td>\n",
              "      <td>8000</td>\n",
              "    </tr>\n",
              "    <tr>\n",
              "      <th>8</th>\n",
              "      <td>29</td>\n",
              "      <td>Krupa</td>\n",
              "      <td>20</td>\n",
              "      <td>89</td>\n",
              "      <td>CO</td>\n",
              "      <td>10000</td>\n",
              "    </tr>\n",
              "    <tr>\n",
              "      <th>9</th>\n",
              "      <td>30</td>\n",
              "      <td>Garima</td>\n",
              "      <td>20</td>\n",
              "      <td>57</td>\n",
              "      <td>MCA</td>\n",
              "      <td>12000</td>\n",
              "    </tr>\n",
              "    <tr>\n",
              "      <th>10</th>\n",
              "      <td>31</td>\n",
              "      <td>Niteen</td>\n",
              "      <td>21</td>\n",
              "      <td>65</td>\n",
              "      <td>MCA</td>\n",
              "      <td>12000</td>\n",
              "    </tr>\n",
              "    <tr>\n",
              "      <th>11</th>\n",
              "      <td>32</td>\n",
              "      <td>Ajya</td>\n",
              "      <td>31</td>\n",
              "      <td>20</td>\n",
              "      <td>MCA</td>\n",
              "      <td>14200</td>\n",
              "    </tr>\n",
              "    <tr>\n",
              "      <th>12</th>\n",
              "      <td>33</td>\n",
              "      <td>Vijay</td>\n",
              "      <td>23</td>\n",
              "      <td>98</td>\n",
              "      <td>MCA</td>\n",
              "      <td>15000</td>\n",
              "    </tr>\n",
              "    <tr>\n",
              "      <th>13</th>\n",
              "      <td>34</td>\n",
              "      <td>Fatima</td>\n",
              "      <td>21</td>\n",
              "      <td>91</td>\n",
              "      <td>IT</td>\n",
              "      <td>5000</td>\n",
              "    </tr>\n",
              "  </tbody>\n",
              "</table>\n",
              "</div>\n",
              "      <button class=\"colab-df-convert\" onclick=\"convertToInteractive('df-8108c3c8-312c-4532-b199-02cf36174cd0')\"\n",
              "              title=\"Convert this dataframe to an interactive table.\"\n",
              "              style=\"display:none;\">\n",
              "        \n",
              "  <svg xmlns=\"http://www.w3.org/2000/svg\" height=\"24px\"viewBox=\"0 0 24 24\"\n",
              "       width=\"24px\">\n",
              "    <path d=\"M0 0h24v24H0V0z\" fill=\"none\"/>\n",
              "    <path d=\"M18.56 5.44l.94 2.06.94-2.06 2.06-.94-2.06-.94-.94-2.06-.94 2.06-2.06.94zm-11 1L8.5 8.5l.94-2.06 2.06-.94-2.06-.94L8.5 2.5l-.94 2.06-2.06.94zm10 10l.94 2.06.94-2.06 2.06-.94-2.06-.94-.94-2.06-.94 2.06-2.06.94z\"/><path d=\"M17.41 7.96l-1.37-1.37c-.4-.4-.92-.59-1.43-.59-.52 0-1.04.2-1.43.59L10.3 9.45l-7.72 7.72c-.78.78-.78 2.05 0 2.83L4 21.41c.39.39.9.59 1.41.59.51 0 1.02-.2 1.41-.59l7.78-7.78 2.81-2.81c.8-.78.8-2.07 0-2.86zM5.41 20L4 18.59l7.72-7.72 1.47 1.35L5.41 20z\"/>\n",
              "  </svg>\n",
              "      </button>\n",
              "      \n",
              "  <style>\n",
              "    .colab-df-container {\n",
              "      display:flex;\n",
              "      flex-wrap:wrap;\n",
              "      gap: 12px;\n",
              "    }\n",
              "\n",
              "    .colab-df-convert {\n",
              "      background-color: #E8F0FE;\n",
              "      border: none;\n",
              "      border-radius: 50%;\n",
              "      cursor: pointer;\n",
              "      display: none;\n",
              "      fill: #1967D2;\n",
              "      height: 32px;\n",
              "      padding: 0 0 0 0;\n",
              "      width: 32px;\n",
              "    }\n",
              "\n",
              "    .colab-df-convert:hover {\n",
              "      background-color: #E2EBFA;\n",
              "      box-shadow: 0px 1px 2px rgba(60, 64, 67, 0.3), 0px 1px 3px 1px rgba(60, 64, 67, 0.15);\n",
              "      fill: #174EA6;\n",
              "    }\n",
              "\n",
              "    [theme=dark] .colab-df-convert {\n",
              "      background-color: #3B4455;\n",
              "      fill: #D2E3FC;\n",
              "    }\n",
              "\n",
              "    [theme=dark] .colab-df-convert:hover {\n",
              "      background-color: #434B5C;\n",
              "      box-shadow: 0px 1px 3px 1px rgba(0, 0, 0, 0.15);\n",
              "      filter: drop-shadow(0px 1px 2px rgba(0, 0, 0, 0.3));\n",
              "      fill: #FFFFFF;\n",
              "    }\n",
              "  </style>\n",
              "\n",
              "      <script>\n",
              "        const buttonEl =\n",
              "          document.querySelector('#df-8108c3c8-312c-4532-b199-02cf36174cd0 button.colab-df-convert');\n",
              "        buttonEl.style.display =\n",
              "          google.colab.kernel.accessAllowed ? 'block' : 'none';\n",
              "\n",
              "        async function convertToInteractive(key) {\n",
              "          const element = document.querySelector('#df-8108c3c8-312c-4532-b199-02cf36174cd0');\n",
              "          const dataTable =\n",
              "            await google.colab.kernel.invokeFunction('convertToInteractive',\n",
              "                                                     [key], {});\n",
              "          if (!dataTable) return;\n",
              "\n",
              "          const docLinkHtml = 'Like what you see? Visit the ' +\n",
              "            '<a target=\"_blank\" href=https://colab.research.google.com/notebooks/data_table.ipynb>data table notebook</a>'\n",
              "            + ' to learn more about interactive tables.';\n",
              "          element.innerHTML = '';\n",
              "          dataTable['output_type'] = 'display_data';\n",
              "          await google.colab.output.renderOutput(dataTable, element);\n",
              "          const docLink = document.createElement('div');\n",
              "          docLink.innerHTML = docLinkHtml;\n",
              "          element.appendChild(docLink);\n",
              "        }\n",
              "      </script>\n",
              "    </div>\n",
              "  </div>\n",
              "  "
            ]
          },
          "metadata": {},
          "execution_count": 8
        }
      ],
      "source": [
        "#reading csv file \n",
        "data = pd.read_csv(\"/content/drive/MyDrive/Semester - 2 Notes /PPDS/Data Sets/Student.csv\")\n",
        "data"
      ]
    },
    {
      "cell_type": "markdown",
      "source": [
        "<br>\n",
        "<br>\n",
        "<br>\n",
        "<br>\n",
        "<br>\n",
        "<br>\n",
        "<br>\n",
        "<br>\n",
        "<br>\n",
        "<br>\n",
        "<br>\n"
      ],
      "metadata": {
        "id": "MewnUVGDUMp6"
      }
    },
    {
      "cell_type": "code",
      "execution_count": null,
      "metadata": {
        "colab": {
          "base_uri": "https://localhost:8080/",
          "height": 312
        },
        "id": "Dk-xBOCaIUpK",
        "outputId": "0557502a-a0d6-4ab8-f7a4-d40d7f32cd9b"
      },
      "outputs": [
        {
          "output_type": "execute_result",
          "data": {
            "text/plain": [
              "<BarContainer object of 14 artists>"
            ]
          },
          "metadata": {},
          "execution_count": 29
        },
        {
          "output_type": "display_data",
          "data": {
            "text/plain": [
              "<Figure size 432x288 with 1 Axes>"
            ],
            "image/png": "[encoded data removed]"
          },
          "metadata": {
            "needs_background": "light"
          }
        }
      ],
      "source": [
        "#A. A program to display Id on X-axis and Stipend on Y-axis in the form of bar graph.\n",
        "x = data['Id']\n",
        "y = data['Stipend']\n",
        "plt.xlabel(\"Student Id\")\n",
        "plt.ylabel(\"Student Stipend\")\n",
        "plt.title(\"Student Stipend Chart\")\n",
        "plt.bar(x,y,label=\"Student data\",color=\"green\")"
      ]
    },
    {
      "cell_type": "code",
      "execution_count": null,
      "metadata": {
        "colab": {
          "base_uri": "https://localhost:8080/",
          "height": 488
        },
        "id": "vdz8JuqTPH8l",
        "outputId": "e13ddee1-5116-4c5f-a663-c60bf9f57f4c"
      },
      "outputs": [
        {
          "output_type": "execute_result",
          "data": {
            "text/plain": [
              "    Id       Name  Age  Marks Branch  Stipend\n",
              "0   21     Tarang   22     90    MCA    15000\n",
              "1   22     Sanjay   30     80    MCA    20000\n",
              "2   23        Ram   21     87     IT     6000\n",
              "3   24      Shyam   23     76    MCA     8000\n",
              "4   25  Ghanshyam   31     35     IT    15000\n",
              "5   26      Radhe   33     23     IT     6000\n",
              "6   27     Jamana   20     99    MCA     6000\n",
              "7   28     Samrat   20     88     CO     8000\n",
              "8   29      Krupa   20     89     CO    10000\n",
              "9   30     Garima   20     57    MCA    12000\n",
              "10  31     Niteen   21     65    MCA    12000\n",
              "11  32       Ajya   31     20    MCA    14200\n",
              "12  33      Vijay   23     98    MCA    15000\n",
              "13  34     Fatima   21     91     IT     5000"
            ],
            "text/html": [
              "\n",
              "  <div id=\"df-3b8a247d-3a69-4522-a4be-63a7a3546a35\">\n",
              "    <div class=\"colab-df-container\">\n",
              "      <div>\n",
              "<style scoped>\n",
              "    .dataframe tbody tr th:only-of-type {\n",
              "        vertical-align: middle;\n",
              "    }\n",
              "\n",
              "    .dataframe tbody tr th {\n",
              "        vertical-align: top;\n",
              "    }\n",
              "\n",
              "    .dataframe thead th {\n",
              "        text-align: right;\n",
              "    }\n",
              "</style>\n",
              "<table border=\"1\" class=\"dataframe\">\n",
              "  <thead>\n",
              "    <tr style=\"text-align: right;\">\n",
              "      <th></th>\n",
              "      <th>Id</th>\n",
              "      <th>Name</th>\n",
              "      <th>Age</th>\n",
              "      <th>Marks</th>\n",
              "      <th>Branch</th>\n",
              "      <th>Stipend</th>\n",
              "    </tr>\n",
              "  </thead>\n",
              "  <tbody>\n",
              "    <tr>\n",
              "      <th>0</th>\n",
              "      <td>21</td>\n",
              "      <td>Tarang</td>\n",
              "      <td>22</td>\n",
              "      <td>90</td>\n",
              "      <td>MCA</td>\n",
              "      <td>15000</td>\n",
              "    </tr>\n",
              "    <tr>\n",
              "      <th>1</th>\n",
              "      <td>22</td>\n",
              "      <td>Sanjay</td>\n",
              "      <td>30</td>\n",
              "      <td>80</td>\n",
              "      <td>MCA</td>\n",
              "      <td>20000</td>\n",
              "    </tr>\n",
              "    <tr>\n",
              "      <th>2</th>\n",
              "      <td>23</td>\n",
              "      <td>Ram</td>\n",
              "      <td>21</td>\n",
              "      <td>87</td>\n",
              "      <td>IT</td>\n",
              "      <td>6000</td>\n",
              "    </tr>\n",
              "    <tr>\n",
              "      <th>3</th>\n",
              "      <td>24</td>\n",
              "      <td>Shyam</td>\n",
              "      <td>23</td>\n",
              "      <td>76</td>\n",
              "      <td>MCA</td>\n",
              "      <td>8000</td>\n",
              "    </tr>\n",
              "    <tr>\n",
              "      <th>4</th>\n",
              "      <td>25</td>\n",
              "      <td>Ghanshyam</td>\n",
              "      <td>31</td>\n",
              "      <td>35</td>\n",
              "      <td>IT</td>\n",
              "      <td>15000</td>\n",
              "    </tr>\n",
              "    <tr>\n",
              "      <th>5</th>\n",
              "      <td>26</td>\n",
              "      <td>Radhe</td>\n",
              "      <td>33</td>\n",
              "      <td>23</td>\n",
              "      <td>IT</td>\n",
              "      <td>6000</td>\n",
              "    </tr>\n",
              "    <tr>\n",
              "      <th>6</th>\n",
              "      <td>27</td>\n",
              "      <td>Jamana</td>\n",
              "      <td>20</td>\n",
              "      <td>99</td>\n",
              "      <td>MCA</td>\n",
              "      <td>6000</td>\n",
              "    </tr>\n",
              "    <tr>\n",
              "      <th>7</th>\n",
              "      <td>28</td>\n",
              "      <td>Samrat</td>\n",
              "      <td>20</td>\n",
              "      <td>88</td>\n",
              "      <td>CO</td>\n",
              "      <td>8000</td>\n",
              "    </tr>\n",
              "    <tr>\n",
              "      <th>8</th>\n",
              "      <td>29</td>\n",
              "      <td>Krupa</td>\n",
              "      <td>20</td>\n",
              "      <td>89</td>\n",
              "      <td>CO</td>\n",
              "      <td>10000</td>\n",
              "    </tr>\n",
              "    <tr>\n",
              "      <th>9</th>\n",
              "      <td>30</td>\n",
              "      <td>Garima</td>\n",
              "      <td>20</td>\n",
              "      <td>57</td>\n",
              "      <td>MCA</td>\n",
              "      <td>12000</td>\n",
              "    </tr>\n",
              "    <tr>\n",
              "      <th>10</th>\n",
              "      <td>31</td>\n",
              "      <td>Niteen</td>\n",
              "      <td>21</td>\n",
              "      <td>65</td>\n",
              "      <td>MCA</td>\n",
              "      <td>12000</td>\n",
              "    </tr>\n",
              "    <tr>\n",
              "      <th>11</th>\n",
              "      <td>32</td>\n",
              "      <td>Ajya</td>\n",
              "      <td>31</td>\n",
              "      <td>20</td>\n",
              "      <td>MCA</td>\n",
              "      <td>14200</td>\n",
              "    </tr>\n",
              "    <tr>\n",
              "      <th>12</th>\n",
              "      <td>33</td>\n",
              "      <td>Vijay</td>\n",
              "      <td>23</td>\n",
              "      <td>98</td>\n",
              "      <td>MCA</td>\n",
              "      <td>15000</td>\n",
              "    </tr>\n",
              "    <tr>\n",
              "      <th>13</th>\n",
              "      <td>34</td>\n",
              "      <td>Fatima</td>\n",
              "      <td>21</td>\n",
              "      <td>91</td>\n",
              "      <td>IT</td>\n",
              "      <td>5000</td>\n",
              "    </tr>\n",
              "  </tbody>\n",
              "</table>\n",
              "</div>\n",
              "      <button class=\"colab-df-convert\" onclick=\"convertToInteractive('df-3b8a247d-3a69-4522-a4be-63a7a3546a35')\"\n",
              "              title=\"Convert this dataframe to an interactive table.\"\n",
              "              style=\"display:none;\">\n",
              "        \n",
              "  <svg xmlns=\"http://www.w3.org/2000/svg\" height=\"24px\"viewBox=\"0 0 24 24\"\n",
              "       width=\"24px\">\n",
              "    <path d=\"M0 0h24v24H0V0z\" fill=\"none\"/>\n",
              "    <path d=\"M18.56 5.44l.94 2.06.94-2.06 2.06-.94-2.06-.94-.94-2.06-.94 2.06-2.06.94zm-11 1L8.5 8.5l.94-2.06 2.06-.94-2.06-.94L8.5 2.5l-.94 2.06-2.06.94zm10 10l.94 2.06.94-2.06 2.06-.94-2.06-.94-.94-2.06-.94 2.06-2.06.94z\"/><path d=\"M17.41 7.96l-1.37-1.37c-.4-.4-.92-.59-1.43-.59-.52 0-1.04.2-1.43.59L10.3 9.45l-7.72 7.72c-.78.78-.78 2.05 0 2.83L4 21.41c.39.39.9.59 1.41.59.51 0 1.02-.2 1.41-.59l7.78-7.78 2.81-2.81c.8-.78.8-2.07 0-2.86zM5.41 20L4 18.59l7.72-7.72 1.47 1.35L5.41 20z\"/>\n",
              "  </svg>\n",
              "      </button>\n",
              "      \n",
              "  <style>\n",
              "    .colab-df-container {\n",
              "      display:flex;\n",
              "      flex-wrap:wrap;\n",
              "      gap: 12px;\n",
              "    }\n",
              "\n",
              "    .colab-df-convert {\n",
              "      background-color: #E8F0FE;\n",
              "      border: none;\n",
              "      border-radius: 50%;\n",
              "      cursor: pointer;\n",
              "      display: none;\n",
              "      fill: #1967D2;\n",
              "      height: 32px;\n",
              "      padding: 0 0 0 0;\n",
              "      width: 32px;\n",
              "    }\n",
              "\n",
              "    .colab-df-convert:hover {\n",
              "      background-color: #E2EBFA;\n",
              "      box-shadow: 0px 1px 2px rgba(60, 64, 67, 0.3), 0px 1px 3px 1px rgba(60, 64, 67, 0.15);\n",
              "      fill: #174EA6;\n",
              "    }\n",
              "\n",
              "    [theme=dark] .colab-df-convert {\n",
              "      background-color: #3B4455;\n",
              "      fill: #D2E3FC;\n",
              "    }\n",
              "\n",
              "    [theme=dark] .colab-df-convert:hover {\n",
              "      background-color: #434B5C;\n",
              "      box-shadow: 0px 1px 3px 1px rgba(0, 0, 0, 0.15);\n",
              "      filter: drop-shadow(0px 1px 2px rgba(0, 0, 0, 0.3));\n",
              "      fill: #FFFFFF;\n",
              "    }\n",
              "  </style>\n",
              "\n",
              "      <script>\n",
              "        const buttonEl =\n",
              "          document.querySelector('#df-3b8a247d-3a69-4522-a4be-63a7a3546a35 button.colab-df-convert');\n",
              "        buttonEl.style.display =\n",
              "          google.colab.kernel.accessAllowed ? 'block' : 'none';\n",
              "\n",
              "        async function convertToInteractive(key) {\n",
              "          const element = document.querySelector('#df-3b8a247d-3a69-4522-a4be-63a7a3546a35');\n",
              "          const dataTable =\n",
              "            await google.colab.kernel.invokeFunction('convertToInteractive',\n",
              "                                                     [key], {});\n",
              "          if (!dataTable) return;\n",
              "\n",
              "          const docLinkHtml = 'Like what you see? Visit the ' +\n",
              "            '<a target=\"_blank\" href=https://colab.research.google.com/notebooks/data_table.ipynb>data table notebook</a>'\n",
              "            + ' to learn more about interactive tables.';\n",
              "          element.innerHTML = '';\n",
              "          dataTable['output_type'] = 'display_data';\n",
              "          await google.colab.output.renderOutput(dataTable, element);\n",
              "          const docLink = document.createElement('div');\n",
              "          docLink.innerHTML = docLinkHtml;\n",
              "          element.appendChild(docLink);\n",
              "        }\n",
              "      </script>\n",
              "    </div>\n",
              "  </div>\n",
              "  "
            ]
          },
          "metadata": {},
          "execution_count": 30
        }
      ],
      "source": [
        "# C. Write program to find Branch MCA, IT and CO departments.\n",
        "newData = data[(data.Branch == 'MCA') |(data.Branch == 'CO') | (data.Branch == 'IT')]\n",
        "newData"
      ]
    },
    {
      "cell_type": "markdown",
      "source": [
        "<br>\n",
        "<br>\n",
        "<br>\n",
        "<br>\n"
      ],
      "metadata": {
        "id": "CnytKDF9YSpd"
      }
    },
    {
      "cell_type": "code",
      "execution_count": null,
      "metadata": {
        "colab": {
          "base_uri": "https://localhost:8080/",
          "height": 347
        },
        "id": "DQyKZyIBKiZ_",
        "outputId": "2df927e2-f156-4b06-f8f3-95ad9eb5897f"
      },
      "outputs": [
        {
          "output_type": "execute_result",
          "data": {
            "text/plain": [
              "(array([7., 3., 0., 0., 1.]),\n",
              " array([20, 22, 24, 26, 28, 30]),\n",
              " <a list of 1 Patch objects>)"
            ]
          },
          "metadata": {},
          "execution_count": 31
        },
        {
          "output_type": "display_data",
          "data": {
            "text/plain": [
              "<Figure size 432x288 with 1 Axes>"
            ],
            "image/png": "[encoded data removed]"
          },
          "metadata": {
            "needs_background": "light"
          }
        }
      ],
      "source": [
        "# B. A program to display histogram showing the percentage of Students in specific age group.\n",
        "bins = [20,22,24,26,28,30]\n",
        "age = data[\"Age\"]\n",
        "plt.xlabel(\"Student age\")\n",
        "plt.ylabel(\"Nos of Student \")\n",
        "plt.title(\"Student Age Chart\")\n",
        "plt.hist(age,bins,histtype=\"stepfilled\",rwidth=0.6,color=\"green\")"
      ]
    },
    {
      "cell_type": "code",
      "execution_count": null,
      "metadata": {
        "colab": {
          "base_uri": "https://localhost:8080/",
          "height": 81
        },
        "id": "OrP_9VKga2jy",
        "outputId": "4e5e3c9c-c963-4d3e-cf3f-1af90c00c180"
      },
      "outputs": [
        {
          "output_type": "execute_result",
          "data": {
            "text/plain": [
              "     Name  Stipend\n",
              "1  Sanjay    20000"
            ],
            "text/html": [
              "\n",
              "  <div id=\"df-a981e42d-21dc-400c-bc25-21b67b951d49\">\n",
              "    <div class=\"colab-df-container\">\n",
              "      <div>\n",
              "<style scoped>\n",
              "    .dataframe tbody tr th:only-of-type {\n",
              "        vertical-align: middle;\n",
              "    }\n",
              "\n",
              "    .dataframe tbody tr th {\n",
              "        vertical-align: top;\n",
              "    }\n",
              "\n",
              "    .dataframe thead th {\n",
              "        text-align: right;\n",
              "    }\n",
              "</style>\n",
              "<table border=\"1\" class=\"dataframe\">\n",
              "  <thead>\n",
              "    <tr style=\"text-align: right;\">\n",
              "      <th></th>\n",
              "      <th>Name</th>\n",
              "      <th>Stipend</th>\n",
              "    </tr>\n",
              "  </thead>\n",
              "  <tbody>\n",
              "    <tr>\n",
              "      <th>1</th>\n",
              "      <td>Sanjay</td>\n",
              "      <td>20000</td>\n",
              "    </tr>\n",
              "  </tbody>\n",
              "</table>\n",
              "</div>\n",
              "      <button class=\"colab-df-convert\" onclick=\"convertToInteractive('df-a981e42d-21dc-400c-bc25-21b67b951d49')\"\n",
              "              title=\"Convert this dataframe to an interactive table.\"\n",
              "              style=\"display:none;\">\n",
              "        \n",
              "  <svg xmlns=\"http://www.w3.org/2000/svg\" height=\"24px\"viewBox=\"0 0 24 24\"\n",
              "       width=\"24px\">\n",
              "    <path d=\"M0 0h24v24H0V0z\" fill=\"none\"/>\n",
              "    <path d=\"M18.56 5.44l.94 2.06.94-2.06 2.06-.94-2.06-.94-.94-2.06-.94 2.06-2.06.94zm-11 1L8.5 8.5l.94-2.06 2.06-.94-2.06-.94L8.5 2.5l-.94 2.06-2.06.94zm10 10l.94 2.06.94-2.06 2.06-.94-2.06-.94-.94-2.06-.94 2.06-2.06.94z\"/><path d=\"M17.41 7.96l-1.37-1.37c-.4-.4-.92-.59-1.43-.59-.52 0-1.04.2-1.43.59L10.3 9.45l-7.72 7.72c-.78.78-.78 2.05 0 2.83L4 21.41c.39.39.9.59 1.41.59.51 0 1.02-.2 1.41-.59l7.78-7.78 2.81-2.81c.8-.78.8-2.07 0-2.86zM5.41 20L4 18.59l7.72-7.72 1.47 1.35L5.41 20z\"/>\n",
              "  </svg>\n",
              "      </button>\n",
              "      \n",
              "  <style>\n",
              "    .colab-df-container {\n",
              "      display:flex;\n",
              "      flex-wrap:wrap;\n",
              "      gap: 12px;\n",
              "    }\n",
              "\n",
              "    .colab-df-convert {\n",
              "      background-color: #E8F0FE;\n",
              "      border: none;\n",
              "      border-radius: 50%;\n",
              "      cursor: pointer;\n",
              "      display: none;\n",
              "      fill: #1967D2;\n",
              "      height: 32px;\n",
              "      padding: 0 0 0 0;\n",
              "      width: 32px;\n",
              "    }\n",
              "\n",
              "    .colab-df-convert:hover {\n",
              "      background-color: #E2EBFA;\n",
              "      box-shadow: 0px 1px 2px rgba(60, 64, 67, 0.3), 0px 1px 3px 1px rgba(60, 64, 67, 0.15);\n",
              "      fill: #174EA6;\n",
              "    }\n",
              "\n",
              "    [theme=dark] .colab-df-convert {\n",
              "      background-color: #3B4455;\n",
              "      fill: #D2E3FC;\n",
              "    }\n",
              "\n",
              "    [theme=dark] .colab-df-convert:hover {\n",
              "      background-color: #434B5C;\n",
              "      box-shadow: 0px 1px 3px 1px rgba(0, 0, 0, 0.15);\n",
              "      filter: drop-shadow(0px 1px 2px rgba(0, 0, 0, 0.3));\n",
              "      fill: #FFFFFF;\n",
              "    }\n",
              "  </style>\n",
              "\n",
              "      <script>\n",
              "        const buttonEl =\n",
              "          document.querySelector('#df-a981e42d-21dc-400c-bc25-21b67b951d49 button.colab-df-convert');\n",
              "        buttonEl.style.display =\n",
              "          google.colab.kernel.accessAllowed ? 'block' : 'none';\n",
              "\n",
              "        async function convertToInteractive(key) {\n",
              "          const element = document.querySelector('#df-a981e42d-21dc-400c-bc25-21b67b951d49');\n",
              "          const dataTable =\n",
              "            await google.colab.kernel.invokeFunction('convertToInteractive',\n",
              "                                                     [key], {});\n",
              "          if (!dataTable) return;\n",
              "\n",
              "          const docLinkHtml = 'Like what you see? Visit the ' +\n",
              "            '<a target=\"_blank\" href=https://colab.research.google.com/notebooks/data_table.ipynb>data table notebook</a>'\n",
              "            + ' to learn more about interactive tables.';\n",
              "          element.innerHTML = '';\n",
              "          dataTable['output_type'] = 'display_data';\n",
              "          await google.colab.output.renderOutput(dataTable, element);\n",
              "          const docLink = document.createElement('div');\n",
              "          docLink.innerHTML = docLinkHtml;\n",
              "          element.appendChild(docLink);\n",
              "        }\n",
              "      </script>\n",
              "    </div>\n",
              "  </div>\n",
              "  "
            ]
          },
          "metadata": {},
          "execution_count": 32
        }
      ],
      "source": [
        "# E. Display name of student with maximum stipend.\n",
        "dff = data[data.Stipend == data[\"Stipend\"].max()]\n",
        "dff[['Name','Stipend']]"
      ]
    },
    {
      "cell_type": "markdown",
      "source": [
        "<br>\n",
        "<br>\n",
        "<br>\n",
        "<br>"
      ],
      "metadata": {
        "id": "DDuYtP2gU8m4"
      }
    },
    {
      "cell_type": "code",
      "source": [
        "# F. Display names of student who’s age is 20.\n",
        "data.Name[data.Age > 20]"
      ],
      "metadata": {
        "colab": {
          "base_uri": "https://localhost:8080/"
        },
        "id": "LT_EJU_qGNDK",
        "outputId": "830fd090-8d16-4d0c-b825-a4a214545bf8"
      },
      "execution_count": null,
      "outputs": [
        {
          "output_type": "execute_result",
          "data": {
            "text/plain": [
              "0        Tarang\n",
              "1        Sanjay\n",
              "2           Ram\n",
              "3         Shyam\n",
              "4     Ghanshyam\n",
              "5         Radhe\n",
              "10       Niteen\n",
              "11         Ajya\n",
              "12        Vijay\n",
              "13       Fatima\n",
              "Name: Name, dtype: object"
            ]
          },
          "metadata": {},
          "execution_count": 33
        }
      ]
    },
    {
      "cell_type": "code",
      "execution_count": null,
      "metadata": {
        "colab": {
          "base_uri": "https://localhost:8080/",
          "height": 295
        },
        "id": "9qpTcou5SJsi",
        "outputId": "17d68d9d-f8b4-449c-e5c5-aba929394f3f"
      },
      "outputs": [
        {
          "output_type": "stream",
          "name": "stdout",
          "text": [
            "Counter({'MCA': 8, 'IT': 4, 'CO': 2})\n"
          ]
        },
        {
          "output_type": "display_data",
          "data": {
            "text/plain": [
              "<Figure size 432x288 with 1 Axes>"
            ],
            "image/png": "[encoded data removed]"
          },
          "metadata": {}
        }
      ],
      "source": [
        "# D. A program to display pie chart showing the percentage of students in various branches.\n",
        "from collections import Counter\n",
        "cols = ['yellow','brown','blue']\n",
        "t = Counter(data[\"Branch\"])\n",
        "for x,y in t.items():\n",
        "  x=t.keys()\n",
        "  y=t.values()\n",
        "print(t)\n",
        "plt.xlabel(\"Branch\")\n",
        "plt.title(\"program to display pie chart showing the percentage of students in various branches.\")\n",
        "plt.pie(y, labels=x,colors=cols,autopct='%.1f%%')\n",
        "plt.show()"
      ]
    },
    {
      "cell_type": "markdown",
      "source": [
        "**5. Write a program to create line graph to show the number of students\n",
        "failed in python year wise. Consider years =[‘2017’, ‘2018’, ‘2019’, ‘2020’,\n",
        "‘2021’, ‘2022’] and number of students failed as Failed_Students = [10, 9,\n",
        "8, 20, 30, 12].**"
      ],
      "metadata": {
        "id": "h1HM4XHGbB9w"
      }
    },
    {
      "cell_type": "code",
      "source": [
        "import matplotlib.pyplot as plt\n",
        "years =[2017, 2018, 2019, 2020, 2021, 2022]\n",
        "Failed_Students = [10, 9, 8, 20, 30, 12]\n",
        "plt.title('Progress')\n",
        "plt.xlabel('Year')\n",
        "plt.ylabel('Nos of Failed Students.')\n",
        "plt.plot(years,Failed_Students,'blue')"
      ],
      "metadata": {
        "colab": {
          "base_uri": "https://localhost:8080/",
          "height": 312
        },
        "id": "0okbry7AbS_e",
        "outputId": "42586a58-9eaf-47e4-e014-a202036785ad"
      },
      "execution_count": null,
      "outputs": [
        {
          "output_type": "execute_result",
          "data": {
            "text/plain": [
              "[<matplotlib.lines.Line2D at 0x7f1190c1cad0>]"
            ]
          },
          "metadata": {},
          "execution_count": 18
        },
        {
          "output_type": "display_data",
          "data": {
            "text/plain": [
              "<Figure size 432x288 with 1 Axes>"
            ],
            "image/png": "[encoded data removed]"
          },
          "metadata": {
            "needs_background": "light"
          }
        }
      ]
    }
  ],
  "metadata": {
    "colab": {
      "collapsed_sections": [],
      "name": "DataScience Assignment.ipynb",
      "provenance": []
    },
    "kernelspec": {
      "display_name": "Python 3",
      "name": "python3"
    },
    "language_info": {
      "name": "python"
    }
  },
  "nbformat": 4,
  "nbformat_minor": 0
}